{
  "cells": [
    {
      "cell_type": "markdown",
      "metadata": {
        "id": "nTjg1WItQo5l"
      },
      "source": [
        "# COGS 108 - Project Proposal"
      ]
    },
    {
      "cell_type": "markdown",
      "metadata": {
        "id": "w9Wa4JQ6Qo5m"
      },
      "source": [
        "# Names\n",
        "\n",
        "- Celeste Walstrom-Vangor\n",
        "- Rui Wang\n",
        "- Jheel Gandhi\n",
        "- Howard Ma\n",
        "- Kenny Qiu"
      ]
    },
    {
      "cell_type": "markdown",
      "metadata": {
        "id": "Z9GChRGmQo5n"
      },
      "source": [
        "# Research Question"
      ]
    },
    {
      "cell_type": "markdown",
      "metadata": {
        "id": "4hwwOlfQQo5n"
      },
      "source": [
        "What are the anticipated Letterboxd ratings for any possible movies starring any of your favorite actors, based on the ratings of their previous films?\n",
        "\n"
      ]
    },
    {
      "cell_type": "markdown",
      "metadata": {
        "id": "eXygiuWLQo5n"
      },
      "source": [
        "## Background and Prior Work"
      ]
    },
    {
      "cell_type": "markdown",
      "metadata": {
        "id": "7IgW_FTxQo5o"
      },
      "source": [
        "\n",
        "By figuring out if there is a correlation between actors' previous movies and their forcasted Letterboxd movie rating, we will be able to determine whether a new movie can be determined as highly rated based only on the actors who are starring in it. There are many factors that go into the ratings of a movie, but it would be highly convinient for most people to be able to determine whether a movie will be good before going to see it. As busy college students, we want to dedicate our time to helping people avoid going to a bad movie before the ratings come out. If we can find a correlation between the ratings of previous movies with actors and the ratings of new movies with those same actors  it will save people a lot of time.\n",
        "\n",
        "Here are some prior work we found online:\n",
        "\n",
        "1. Vox Analysis on the the actors and actresses who most consistently appear in terrible movies\n",
        "\n",
        "  One previous analysis from Vox was done on the actors who starred in the best and worst rated films based on metacritic. From which they restricted the data set to only include actors that meet the following criteria:\n",
        "    1. The actor/actress must have performed in at least 10 films (writing, directing, and producing credits were omitted).\n",
        "    2. At least one of these films had to have grossed $30 million or more at the box office, adjusted for inflation.\n",
        "    3. At least one of these films had to be within the past five years (we only wanted semi-active performers).\n",
        "\n",
        "  From the blog post analysis of the top 10 worst rated actors, we can see familiar names like Adam Sandler and Jennifer Love Hewitt who are often known for being in worse rated movies. On the other hand, for the top 10 best rated actors, familiar names that are known for having good movies like Leonardo Di Caprio and Jennifer Lawerence make the list.\n",
        "\n",
        "  Something interesting to note is that genres like action and comedy are rated more harshly than genres like documentaries and drama. This is hypothesized to be due to the subjective nature of comedy films.\n",
        "\n",
        "  This analysis does only look at single actors rather than taking into account all the actors in a film, but it does conclude that there’s at least some correlation between an actor and their movie’s rating.\n",
        "\n",
        "2.\n",
        "The Hustle - The actors who are the best (and worst) at their job:\n",
        "\n",
        "  The Hustle did a similar analysis on actors and the critical ratings they get.\n",
        "  Here’re the datasets used by the blog post:\n",
        "    1. Average Metacritic scores (a measurement of critical ratings) across all films for 35k+ actors\n",
        "    2. Average domestic box office data across all films an actor has played a prominent role in over their career\n",
        "\n",
        "  They chose domestic box office because international films are biased towards franchise films, and the box office dataset is not adjusted for inflation so it favors newer films.\n",
        "\n",
        "  Similar to the first analysis, critics are biased against comedy and love films, with those films getting lower than average ratings.\n",
        "\n",
        "  They also included a beloved actors matrix where they plotted the average box office of an actor (how loved they are by the audience) with the average metacritic score (how loved they are by the critics).\n",
        "\n",
        "  They then did a composite score taking into account both the percentiles of the box office and their metacritic. In this final list, actors like Leonardo DiCaprio and Tom Hanks make the list of the best combination and actors like Bella Thorne and Chad Michael Murray make the list of the worst combination.\n",
        "\n",
        "  This analysis also seems to support the fact that some actors are more likely to have better rated movies, but this study only takes in single actors as well as the first analysis did, so there’s more work to be done on analyzing multiple actors for a single film.\n",
        "\n",
        "  Something to note here is that just because a movie has bad critic ratings does not mean that the audience doesn’t like it, as supported by big box offices for some of the worst rated actors.\n",
        "\n",
        "\n",
        "\n",
        "References:\n",
        "* https://www.vox.com/2016/4/11/11381206/worst-actors-hollywood\n",
        "* https://thehustle.co/the-actors-who-are-the-best-and-worst-at-their-job/\n"
      ]
    },
    {
      "cell_type": "markdown",
      "metadata": {
        "id": "A6-8zcTFQo5p"
      },
      "source": [
        "# Hypothesis\n"
      ]
    },
    {
      "cell_type": "markdown",
      "metadata": {
        "id": "8B7WXWaPQo5p"
      },
      "source": [
        "There exists a positive correlation between the Letterboxd ratings of past movies featuring the top 100 actors and the ratings of their upcoming films. This assumption stems from the idea that actors with a history of highly rated performances are likely to continue appearing in well-received films, contributing to positive Letterboxd reviews."
      ]
    },
    {
      "cell_type": "markdown",
      "metadata": {
        "id": "GrtpgAW6Qo5q"
      },
      "source": [
        "# Data"
      ]
    },
    {
      "cell_type": "markdown",
      "metadata": {
        "id": "a7U9tN2vQo5q"
      },
      "source": [
        "  The ideal dataset that we want is one that contains a substantial amount of movies(ideally more than 10k), each being an observation, and variable names like \"title\", \"year\", \"ratings\", \"actor 1\", \"actor 2\", \"actor 3\" ... We would get the dataset from IMDB and Letterboxd and stored in a csv file.\n",
        "\n",
        "  Datasets:\n",
        "  \n",
        "  1. Letterboxd Movie Ratings Data\n",
        "  https://www.kaggle.com/datasets/samlearner/letterboxd-movie-ratings-data\n",
        "  \n",
        "    This dataset from Kaggle contains more than 280k movies' information which will mostly be dumped for our study as most of them either don't have enough review numbers or are too old. But it does contain letterboxd ratings, popularity, and imdb id for each movie which is crucial for us.\n",
        "  2. IMDB Movie Ratings Dataset\n",
        "  https://www.kaggle.com/datasets/thedevastator/imdb-movie-ratings-dataset\n",
        "\n",
        "    This is a smaller dataset that contains around 5k movies' data, but most movies are popular and has a large number of reviews and votes. It also contains released year, actors, genres, and duration variables which are important to this study.\n",
        "\n",
        "  * We will be building our own dataset off of a combination of these two datasets. For example, we will be using movies and informations from the IMDB dataset and combine it with the letterboxd score and popularity from the letterboxd dataset\n"
      ]
    },
    {
      "cell_type": "markdown",
      "metadata": {
        "id": "10kz17aRQo5q"
      },
      "source": [
        "# Ethics & Privacy"
      ]
    },
    {
      "cell_type": "markdown",
      "metadata": {
        "id": "GRGIh8iLQo5q"
      },
      "source": [
        "  As a group of students enrolled at UCSD, we all acknowledge that we have aspects of our lives in common that could create biases in our research, and therefore data. We are all members of Gen Z, students, live/lived in San Diego, privileged enough to receive a high education, etc. These aspects of our lives could create an underlying bias that we need to address. Knowing this, we need to ensure that we are accessing data that reaches beyond our generation and using sources that address movies and actors of all ages and backgrounds, basing their popularity on one designated, impartial scale. Additionally, we chose to use Letterboxd for the rating of the movies in our data sets. We know that half of Letterboxd users are under the age of 35, and more than half are between 16 and 24 (https://variety.com/2023/film/news/letterboxd-martin-scorsese-younger-audience-classic-films-1235804153/). We also know that this choice stems from Letterboxd being more popular amongst our generation, and therefore the members of our group. This could therefore mean that the scale we are using to rate movies is based more than half on the younger portion of the population. Although this is true, Letterboxd will have an impartial scale and vast amount of data to access. As a warning, we will provide this context to the audience so they are well informed that the ratings may primarily reflect the views of the younger generations, and may not accurately depict how the elder populations feel about the movies.\n"
      ]
    },
    {
      "cell_type": "markdown",
      "metadata": {
        "id": "oOYUf_qTQo5q"
      },
      "source": [
        "# Team Expectations"
      ]
    },
    {
      "cell_type": "markdown",
      "metadata": {
        "id": "5DXxFxFJQo5r"
      },
      "source": [
        "\n",
        "* We decide to meet at least once a week when necessary and previously decided upon\n",
        "* We want to ensure that there is a hybrid meeting system available so group members can join from anywhere\n",
        "* We want to make sure that deadlines are clearly communicated and that people are gently reminded to meet those deadlines\n",
        "* Judgment free zone!\n"
      ]
    },
    {
      "cell_type": "markdown",
      "metadata": {
        "id": "kPGHsflCQo5r"
      },
      "source": [
        "# Project Timeline Proposal"
      ]
    },
    {
      "cell_type": "code",
      "source": [
        "import pandas as pd\n",
        "\n",
        "df = pd.read_csv('https://raw.githubusercontent.com/COGS108/Group080_WI24/master/schedule%20-%20Sheet1.csv?token=GHSAT0AAAAAACMUEDRGX3ES3A4QQJUGFGB6ZOJSTMA')\n",
        "df = df.fillna('')\n",
        "df"
      ],
      "metadata": {
        "colab": {
          "base_uri": "https://localhost:8080/",
          "height": 366
        },
        "id": "mzRhfsZKl0Eg",
        "outputId": "31defe81-bca1-4329-fac5-81be521c8608"
      },
      "execution_count": 4,
      "outputs": [
        {
          "output_type": "execute_result",
          "data": {
            "text/plain": [
              "  Meeting Date Meeting time  \\\n",
              "0         2/13      4:00 PM   \n",
              "1         2/20      4:00 PM   \n",
              "2                             \n",
              "3         2/27      4:00 PM   \n",
              "4          3/5      4:00 PM   \n",
              "5                             \n",
              "6         3/12      4:00 PM   \n",
              "7                             \n",
              "8                             \n",
              "\n",
              "                            Completed Before Meeting  \\\n",
              "0  Collect data that you think is relevant to thi...   \n",
              "1                     Get familiar with each dataset   \n",
              "2                                                      \n",
              "3                              Know the dataset well   \n",
              "4                                                      \n",
              "5                                                      \n",
              "6                                                      \n",
              "7                                                      \n",
              "8                                                      \n",
              "\n",
              "                                  Discuss at Meeting  \\\n",
              "0  Explore the scope of the topic, taking into ac...   \n",
              "1  Describe the types of features each dataset co...   \n",
              "2                                                      \n",
              "3  Divide the tasks on coding part for each group...   \n",
              "4  Share the coding part\\n\\nProvide and receive f...   \n",
              "5                                                      \n",
              "6  Divide the tasks for Final Report Sections\\n\\n...   \n",
              "7                                                      \n",
              "8                                                      \n",
              "\n",
              "                                     Important Date  \n",
              "0                                                    \n",
              "1                                                    \n",
              "2                         2/25\\nCheckpoint #1: Data  \n",
              "3                                                    \n",
              "4                                                    \n",
              "5                          3/10\\nCheckpoint #2: EDA  \n",
              "6                                                    \n",
              "7                           3/18 - 3/20\\nFinal Week  \n",
              "8  3/20\\nFinal Report\\nFinal Video\\nTeam Evaluation  "
            ],
            "text/html": [
              "\n",
              "  <div id=\"df-cdb73d99-4781-4cad-ba94-dfeef24dd88f\" class=\"colab-df-container\">\n",
              "    <div>\n",
              "<style scoped>\n",
              "    .dataframe tbody tr th:only-of-type {\n",
              "        vertical-align: middle;\n",
              "    }\n",
              "\n",
              "    .dataframe tbody tr th {\n",
              "        vertical-align: top;\n",
              "    }\n",
              "\n",
              "    .dataframe thead th {\n",
              "        text-align: right;\n",
              "    }\n",
              "</style>\n",
              "<table border=\"1\" class=\"dataframe\">\n",
              "  <thead>\n",
              "    <tr style=\"text-align: right;\">\n",
              "      <th></th>\n",
              "      <th>Meeting Date</th>\n",
              "      <th>Meeting time</th>\n",
              "      <th>Completed Before Meeting</th>\n",
              "      <th>Discuss at Meeting</th>\n",
              "      <th>Important Date</th>\n",
              "    </tr>\n",
              "  </thead>\n",
              "  <tbody>\n",
              "    <tr>\n",
              "      <th>0</th>\n",
              "      <td>2/13</td>\n",
              "      <td>4:00 PM</td>\n",
              "      <td>Collect data that you think is relevant to thi...</td>\n",
              "      <td>Explore the scope of the topic, taking into ac...</td>\n",
              "      <td></td>\n",
              "    </tr>\n",
              "    <tr>\n",
              "      <th>1</th>\n",
              "      <td>2/20</td>\n",
              "      <td>4:00 PM</td>\n",
              "      <td>Get familiar with each dataset</td>\n",
              "      <td>Describe the types of features each dataset co...</td>\n",
              "      <td></td>\n",
              "    </tr>\n",
              "    <tr>\n",
              "      <th>2</th>\n",
              "      <td></td>\n",
              "      <td></td>\n",
              "      <td></td>\n",
              "      <td></td>\n",
              "      <td>2/25\\nCheckpoint #1: Data</td>\n",
              "    </tr>\n",
              "    <tr>\n",
              "      <th>3</th>\n",
              "      <td>2/27</td>\n",
              "      <td>4:00 PM</td>\n",
              "      <td>Know the dataset well</td>\n",
              "      <td>Divide the tasks on coding part for each group...</td>\n",
              "      <td></td>\n",
              "    </tr>\n",
              "    <tr>\n",
              "      <th>4</th>\n",
              "      <td>3/5</td>\n",
              "      <td>4:00 PM</td>\n",
              "      <td></td>\n",
              "      <td>Share the coding part\\n\\nProvide and receive f...</td>\n",
              "      <td></td>\n",
              "    </tr>\n",
              "    <tr>\n",
              "      <th>5</th>\n",
              "      <td></td>\n",
              "      <td></td>\n",
              "      <td></td>\n",
              "      <td></td>\n",
              "      <td>3/10\\nCheckpoint #2: EDA</td>\n",
              "    </tr>\n",
              "    <tr>\n",
              "      <th>6</th>\n",
              "      <td>3/12</td>\n",
              "      <td>4:00 PM</td>\n",
              "      <td></td>\n",
              "      <td>Divide the tasks for Final Report Sections\\n\\n...</td>\n",
              "      <td></td>\n",
              "    </tr>\n",
              "    <tr>\n",
              "      <th>7</th>\n",
              "      <td></td>\n",
              "      <td></td>\n",
              "      <td></td>\n",
              "      <td></td>\n",
              "      <td>3/18 - 3/20\\nFinal Week</td>\n",
              "    </tr>\n",
              "    <tr>\n",
              "      <th>8</th>\n",
              "      <td></td>\n",
              "      <td></td>\n",
              "      <td></td>\n",
              "      <td></td>\n",
              "      <td>3/20\\nFinal Report\\nFinal Video\\nTeam Evaluation</td>\n",
              "    </tr>\n",
              "  </tbody>\n",
              "</table>\n",
              "</div>\n",
              "    <div class=\"colab-df-buttons\">\n",
              "\n",
              "  <div class=\"colab-df-container\">\n",
              "    <button class=\"colab-df-convert\" onclick=\"convertToInteractive('df-cdb73d99-4781-4cad-ba94-dfeef24dd88f')\"\n",
              "            title=\"Convert this dataframe to an interactive table.\"\n",
              "            style=\"display:none;\">\n",
              "\n",
              "  <svg xmlns=\"http://www.w3.org/2000/svg\" height=\"24px\" viewBox=\"0 -960 960 960\">\n",
              "    <path d=\"M120-120v-720h720v720H120Zm60-500h600v-160H180v160Zm220 220h160v-160H400v160Zm0 220h160v-160H400v160ZM180-400h160v-160H180v160Zm440 0h160v-160H620v160ZM180-180h160v-160H180v160Zm440 0h160v-160H620v160Z\"/>\n",
              "  </svg>\n",
              "    </button>\n",
              "\n",
              "  <style>\n",
              "    .colab-df-container {\n",
              "      display:flex;\n",
              "      gap: 12px;\n",
              "    }\n",
              "\n",
              "    .colab-df-convert {\n",
              "      background-color: #E8F0FE;\n",
              "      border: none;\n",
              "      border-radius: 50%;\n",
              "      cursor: pointer;\n",
              "      display: none;\n",
              "      fill: #1967D2;\n",
              "      height: 32px;\n",
              "      padding: 0 0 0 0;\n",
              "      width: 32px;\n",
              "    }\n",
              "\n",
              "    .colab-df-convert:hover {\n",
              "      background-color: #E2EBFA;\n",
              "      box-shadow: 0px 1px 2px rgba(60, 64, 67, 0.3), 0px 1px 3px 1px rgba(60, 64, 67, 0.15);\n",
              "      fill: #174EA6;\n",
              "    }\n",
              "\n",
              "    .colab-df-buttons div {\n",
              "      margin-bottom: 4px;\n",
              "    }\n",
              "\n",
              "    [theme=dark] .colab-df-convert {\n",
              "      background-color: #3B4455;\n",
              "      fill: #D2E3FC;\n",
              "    }\n",
              "\n",
              "    [theme=dark] .colab-df-convert:hover {\n",
              "      background-color: #434B5C;\n",
              "      box-shadow: 0px 1px 3px 1px rgba(0, 0, 0, 0.15);\n",
              "      filter: drop-shadow(0px 1px 2px rgba(0, 0, 0, 0.3));\n",
              "      fill: #FFFFFF;\n",
              "    }\n",
              "  </style>\n",
              "\n",
              "    <script>\n",
              "      const buttonEl =\n",
              "        document.querySelector('#df-cdb73d99-4781-4cad-ba94-dfeef24dd88f button.colab-df-convert');\n",
              "      buttonEl.style.display =\n",
              "        google.colab.kernel.accessAllowed ? 'block' : 'none';\n",
              "\n",
              "      async function convertToInteractive(key) {\n",
              "        const element = document.querySelector('#df-cdb73d99-4781-4cad-ba94-dfeef24dd88f');\n",
              "        const dataTable =\n",
              "          await google.colab.kernel.invokeFunction('convertToInteractive',\n",
              "                                                    [key], {});\n",
              "        if (!dataTable) return;\n",
              "\n",
              "        const docLinkHtml = 'Like what you see? Visit the ' +\n",
              "          '<a target=\"_blank\" href=https://colab.research.google.com/notebooks/data_table.ipynb>data table notebook</a>'\n",
              "          + ' to learn more about interactive tables.';\n",
              "        element.innerHTML = '';\n",
              "        dataTable['output_type'] = 'display_data';\n",
              "        await google.colab.output.renderOutput(dataTable, element);\n",
              "        const docLink = document.createElement('div');\n",
              "        docLink.innerHTML = docLinkHtml;\n",
              "        element.appendChild(docLink);\n",
              "      }\n",
              "    </script>\n",
              "  </div>\n",
              "\n",
              "\n",
              "<div id=\"df-ba31f823-885f-491c-82a4-f8f6ba3f4766\">\n",
              "  <button class=\"colab-df-quickchart\" onclick=\"quickchart('df-ba31f823-885f-491c-82a4-f8f6ba3f4766')\"\n",
              "            title=\"Suggest charts\"\n",
              "            style=\"display:none;\">\n",
              "\n",
              "<svg xmlns=\"http://www.w3.org/2000/svg\" height=\"24px\"viewBox=\"0 0 24 24\"\n",
              "     width=\"24px\">\n",
              "    <g>\n",
              "        <path d=\"M19 3H5c-1.1 0-2 .9-2 2v14c0 1.1.9 2 2 2h14c1.1 0 2-.9 2-2V5c0-1.1-.9-2-2-2zM9 17H7v-7h2v7zm4 0h-2V7h2v10zm4 0h-2v-4h2v4z\"/>\n",
              "    </g>\n",
              "</svg>\n",
              "  </button>\n",
              "\n",
              "<style>\n",
              "  .colab-df-quickchart {\n",
              "      --bg-color: #E8F0FE;\n",
              "      --fill-color: #1967D2;\n",
              "      --hover-bg-color: #E2EBFA;\n",
              "      --hover-fill-color: #174EA6;\n",
              "      --disabled-fill-color: #AAA;\n",
              "      --disabled-bg-color: #DDD;\n",
              "  }\n",
              "\n",
              "  [theme=dark] .colab-df-quickchart {\n",
              "      --bg-color: #3B4455;\n",
              "      --fill-color: #D2E3FC;\n",
              "      --hover-bg-color: #434B5C;\n",
              "      --hover-fill-color: #FFFFFF;\n",
              "      --disabled-bg-color: #3B4455;\n",
              "      --disabled-fill-color: #666;\n",
              "  }\n",
              "\n",
              "  .colab-df-quickchart {\n",
              "    background-color: var(--bg-color);\n",
              "    border: none;\n",
              "    border-radius: 50%;\n",
              "    cursor: pointer;\n",
              "    display: none;\n",
              "    fill: var(--fill-color);\n",
              "    height: 32px;\n",
              "    padding: 0;\n",
              "    width: 32px;\n",
              "  }\n",
              "\n",
              "  .colab-df-quickchart:hover {\n",
              "    background-color: var(--hover-bg-color);\n",
              "    box-shadow: 0 1px 2px rgba(60, 64, 67, 0.3), 0 1px 3px 1px rgba(60, 64, 67, 0.15);\n",
              "    fill: var(--button-hover-fill-color);\n",
              "  }\n",
              "\n",
              "  .colab-df-quickchart-complete:disabled,\n",
              "  .colab-df-quickchart-complete:disabled:hover {\n",
              "    background-color: var(--disabled-bg-color);\n",
              "    fill: var(--disabled-fill-color);\n",
              "    box-shadow: none;\n",
              "  }\n",
              "\n",
              "  .colab-df-spinner {\n",
              "    border: 2px solid var(--fill-color);\n",
              "    border-color: transparent;\n",
              "    border-bottom-color: var(--fill-color);\n",
              "    animation:\n",
              "      spin 1s steps(1) infinite;\n",
              "  }\n",
              "\n",
              "  @keyframes spin {\n",
              "    0% {\n",
              "      border-color: transparent;\n",
              "      border-bottom-color: var(--fill-color);\n",
              "      border-left-color: var(--fill-color);\n",
              "    }\n",
              "    20% {\n",
              "      border-color: transparent;\n",
              "      border-left-color: var(--fill-color);\n",
              "      border-top-color: var(--fill-color);\n",
              "    }\n",
              "    30% {\n",
              "      border-color: transparent;\n",
              "      border-left-color: var(--fill-color);\n",
              "      border-top-color: var(--fill-color);\n",
              "      border-right-color: var(--fill-color);\n",
              "    }\n",
              "    40% {\n",
              "      border-color: transparent;\n",
              "      border-right-color: var(--fill-color);\n",
              "      border-top-color: var(--fill-color);\n",
              "    }\n",
              "    60% {\n",
              "      border-color: transparent;\n",
              "      border-right-color: var(--fill-color);\n",
              "    }\n",
              "    80% {\n",
              "      border-color: transparent;\n",
              "      border-right-color: var(--fill-color);\n",
              "      border-bottom-color: var(--fill-color);\n",
              "    }\n",
              "    90% {\n",
              "      border-color: transparent;\n",
              "      border-bottom-color: var(--fill-color);\n",
              "    }\n",
              "  }\n",
              "</style>\n",
              "\n",
              "  <script>\n",
              "    async function quickchart(key) {\n",
              "      const quickchartButtonEl =\n",
              "        document.querySelector('#' + key + ' button');\n",
              "      quickchartButtonEl.disabled = true;  // To prevent multiple clicks.\n",
              "      quickchartButtonEl.classList.add('colab-df-spinner');\n",
              "      try {\n",
              "        const charts = await google.colab.kernel.invokeFunction(\n",
              "            'suggestCharts', [key], {});\n",
              "      } catch (error) {\n",
              "        console.error('Error during call to suggestCharts:', error);\n",
              "      }\n",
              "      quickchartButtonEl.classList.remove('colab-df-spinner');\n",
              "      quickchartButtonEl.classList.add('colab-df-quickchart-complete');\n",
              "    }\n",
              "    (() => {\n",
              "      let quickchartButtonEl =\n",
              "        document.querySelector('#df-ba31f823-885f-491c-82a4-f8f6ba3f4766 button');\n",
              "      quickchartButtonEl.style.display =\n",
              "        google.colab.kernel.accessAllowed ? 'block' : 'none';\n",
              "    })();\n",
              "  </script>\n",
              "</div>\n",
              "    </div>\n",
              "  </div>\n"
            ]
          },
          "metadata": {},
          "execution_count": 4
        }
      ]
    }
  ],
  "metadata": {
    "kernelspec": {
      "display_name": "Python 3 (ipykernel)",
      "language": "python",
      "name": "python3"
    },
    "language_info": {
      "codemirror_mode": {
        "name": "ipython",
        "version": 3
      },
      "file_extension": ".py",
      "mimetype": "text/x-python",
      "name": "python",
      "nbconvert_exporter": "python",
      "pygments_lexer": "ipython3",
      "version": "3.9.7"
    },
    "colab": {
      "provenance": []
    }
  },
  "nbformat": 4,
  "nbformat_minor": 0
}