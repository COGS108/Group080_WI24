{
 "cells": [
  {
   "cell_type": "markdown",
   "metadata": {
    "id": "gxp75OuOKsod"
   },
   "source": [
    "**If you lost points on the last checkpoint you can get them back by responding to TA/IA feedback**  \n",
    "\n",
    "Update/change the relevant sections where you lost those points, make sure you respond on GitHub Issues to your TA/IA to call their attention to the changes you made here.\n",
    "\n",
    "Please update your Timeline... no battle plan survives contact with the enemy, so make sure we understand how your plans have changed."
   ]
  },
  {
   "cell_type": "markdown",
   "metadata": {
    "id": "DsstcPVGKsoh"
   },
   "source": [
    "# COGS 108 - EDA Checkpoint"
   ]
  },
  {
   "cell_type": "markdown",
   "metadata": {
    "id": "qN7nnxMXKsoh"
   },
   "source": [
    "# Names\n",
    "\n",
    "- Celeste Walstrom-Vangor\n",
    "- Rui Wang\n",
    "- Jheel Gandhi\n",
    "- Howard Ma\n",
    "- Kenny Qiu"
   ]
  },
  {
   "cell_type": "markdown",
   "metadata": {
    "id": "0-MJWoy1Ksoi"
   },
   "source": [
    "# **Research Question**"
   ]
  },
  {
   "cell_type": "markdown",
   "metadata": {
    "id": "9XvtCVa_Ksoi"
   },
   "source": [
    "Can we predict the Letterboxd ratings for upcoming movies based solely on actors in those movies and the ratings of their previous films, focusing on the ratings of Gen Z?"
   ]
  },
  {
   "cell_type": "markdown",
   "metadata": {
    "id": "IY98TkGTKsoi"
   },
   "source": [
    "## Background and Prior Work"
   ]
  },
  {
   "cell_type": "markdown",
   "metadata": {
    "id": "iLKJ-FeSKsoi"
   },
   "source": [
    "By figuring out if there is a correlation between actors' previous movies and their forcasted Letterboxd movie rating, we will be able to determine whether a new movie can be determined as highly rated based only on the actors who are starring in it. Although there are many factors that go into the ratings of a movie, if we can create an accurate algorithm that focuses on actors alone it will be highly convinient so people can determine whether a movie will be highly rated before going to see it. As busy college students, we want to dedicate our time to helping people avoid going to a low rated movies before the ratings come out. If we can find a correlation between the ratings of previous movies with actors and the ratings of new movies with those same actors it could save people a lot of time.\n",
    "\n",
    "Here are some prior work we found online:\n",
    "\n",
    "1. Vox Analysis on the the actors and actresses who most consistently appear in terrible movies\n",
    "\n",
    "  One previous analysis from Vox was done on the actors who starred in the best and worst rated films based on metacritic. From which they restricted the data set to only include actors that meet the following criteria:\n",
    "    1. The actor/actress must have performed in at least 10 films (writing, directing, and producing credits were omitted).\n",
    "    2. At least one of these films had to have grossed $30 million or more at the box office, adjusted for inflation.\n",
    "    3. At least one of these films had to be within the past five years (we only wanted semi-active performers).\n",
    "\n",
    "  From the blog post analysis of the top 10 worst rated actors, we can see familiar names like Adam Sandler and Jennifer Love Hewitt who are often known for being in worse rated movies. On the other hand, for the top 10 best rated actors, familiar names that are known for having good movies like Leonardo Di Caprio and Jennifer Lawerence make the list.\n",
    "\n",
    "  Something interesting to note is that genres like action and comedy are rated more harshly than genres like documentaries and drama. This is hypothesized to be due to the subjective nature of comedy films.\n",
    "\n",
    "  This analysis does only look at single actors rather than taking into account all the actors in a film, but it does conclude that there’s at least some correlation between an actor and their movie’s rating.\n",
    "\n",
    "2.\n",
    "The Hustle - The actors who are the best (and worst) at their job:\n",
    "\n",
    "  The Hustle did a similar analysis on actors and the critical ratings they get.\n",
    "  Here are the datasets used by the blog post:\n",
    "    1. Average Metacritic scores (a measurement of critical ratings) across all films for 35k+ actors\n",
    "    2. Average domestic box office data across all films an actor has played a prominent role in over their career\n",
    "\n",
    "  They chose domestic box office because international films are biased towards franchise films, and the box office dataset is not adjusted for inflation so it favors newer films.\n",
    "\n",
    "  Similar to the first analysis, critics are biased against comedy and love films, with those films getting lower than average ratings.\n",
    "\n",
    "  They also included a beloved actors matrix where they plotted the average box office of an actor (how loved they are by the audience) with the average metacritic score (how loved they are by the critics).\n",
    "\n",
    "  They then did a composite score taking into account both the percentiles of the box office and their metacritic. In this final list, actors like Leonardo DiCaprio and Tom Hanks make the list of the best combination and actors like Bella Thorne and Chad Michael Murray make the list of the worst combination.\n",
    "\n",
    "  This analysis also seems to support the fact that some actors are more likely to have better rated movies, but this study only takes in single actors as well as the first analysis did, so there’s more work to be done on analyzing multiple actors for a single film.\n",
    "\n",
    "  Something to note here is that just because a movie has bad critic ratings does not mean that the audience doesn’t like it, as supported by big box offices for some of the worst rated actors.\n",
    "\n",
    "\n",
    "\n",
    "References:\n",
    "* https://www.vox.com/2016/4/11/11381206/worst-actors-hollywood\n",
    "* https://thehustle.co/the-actors-who-are-the-best-and-worst-at-their-job/"
   ]
  },
  {
   "cell_type": "markdown",
   "metadata": {
    "id": "isi8Ikl7Ksoj"
   },
   "source": [
    "# **Hypothesis**\n"
   ]
  },
  {
   "cell_type": "markdown",
   "metadata": {
    "id": "KzEKerE7Ksoj"
   },
   "source": [
    "We predict that there exists a positive correlation between the Letterboxd ratings of past movies with the top 1000 most relevant actors and the ratings of their upcoming films. This assumption stems from the idea that actors with a history of highly rated performances are likely to continue appearing in well-received films, contributing to positive Letterboxd reviews."
   ]
  },
  {
   "cell_type": "markdown",
   "metadata": {
    "id": "xa0QoKlie0gO"
   },
   "source": [
    "# **Data**"
   ]
  },
  {
   "cell_type": "markdown",
   "metadata": {
    "id": "Tusn-EHGe0gO"
   },
   "source": [
    "## Data overview\n",
    "\n",
    "For each dataset include the following information\n",
    "- Dataset #1\n",
    "  - Dataset Name:actors\n",
    "  - Link to the dataset:https://www.kaggle.com/datasets/gsimonx37/letterboxd?select=actors.csv\n",
    "  - Number of observations:5523327\n",
    "  - Number of variables:2\n",
    "- Dataset #2\n",
    "  - Dataset Name:genres\n",
    "  - Link to the dataset: https://www.kaggle.com/datasets/gsimonx37/letterboxd?select=genres.csv\n",
    "  - Number of observations:990770\n",
    "  - Number of variables:2\n",
    "- Dataset #3\n",
    "  - Dataset Name:language\n",
    "  - Link to the dataset: https://www.kaggle.com/datasets/gsimonx37/letterboxd?select=languages.csv\n",
    "  - Number of observations:988826\n",
    "  - Number of variables:3\n",
    "- Dataset #4\n",
    "  - Dataset Name:movies\n",
    "  - Link to the dataset: https://www.kaggle.com/datasets/gsimonx37/letterboxd?select=movies.csv\n",
    "  - Number of observations:896400\n",
    "  - Number of variables:7\n",
    "\n",
    "\n",
    "We are planning to utilize four datasets: **actors.csv**, **genres.csv**, **language.csv**, and **movies.csv**.\n",
    "\n",
    "**actors.csv**: This dataset comprises two variables: **id** and **name**. The **id** column contains numerous instances of identical numbers each associated with different **name** entries, representing actors. We intend to consolidate identical **id** numbers and compile a corresponding list of actor names. This process will involve groupby() to handle repeated **id** values.\n",
    "\n",
    "**genres.csv**: Similar to the **actors.csv**, it contains two variables: **id** and **genre**. We will merge identical **id** numbers, creating a comprehensive list of genres associated with each unique identifier. This dataset will help us understand the distribution of movie genres and their relationships with other variables.\n",
    "\n",
    "**language.csv**: This dataset includes three variables: **id**, **type**, and **language**. Our approach will not only groupby() the same **id** but also filter entries in the **type** column to retain only 'Language' and 'Primary language'.\n",
    "\n",
    "**movies.csv**: Containing seven variables, we plan to discard **tagline**, **description**, and **minute** from our analysis.  We will focus on **id**, **name**, **date**, and **rating**, which are more aligned with our objectives.\n",
    "\n",
    "For data cleaning, we will include movies with a **date** later than 1970, with 'English' among their languages, and we will eliminate any datas containing **'NaN'** to maintain data integrity.\n",
    "\n",
    "The combination of these datasets will involve merging based on the **id** field, ensuring that each movie's data is enriched with corresponding actors, genres, and language information. The final dataset will feature variables such as **id**, **movie**, **date**, **rating**, **actors**, **genre**, **language**, and **director**. This cohesive dataset will form the foundation of our project's analysis.\n"
   ]
  },
  {
   "cell_type": "code",
   "execution_count": 1,
   "metadata": {
    "id": "PtJBU7LOe0gP"
   },
   "outputs": [],
   "source": [
    "# Imports\n",
    "import pandas as pd"
   ]
  },
  {
   "cell_type": "markdown",
   "metadata": {
    "id": "CRHjpCX6e0gP"
   },
   "source": [
    "## Dataset Actors"
   ]
  },
  {
   "cell_type": "code",
   "execution_count": 2,
   "metadata": {
    "colab": {
     "base_uri": "https://localhost:8080/",
     "height": 424
    },
    "id": "xiZ9l4Zxe0gP",
    "outputId": "f122d30f-d9c6-44fb-dc5b-4820b318d009"
   },
   "outputs": [
    {
     "data": {
      "text/html": [
       "<div>\n",
       "<style scoped>\n",
       "    .dataframe tbody tr th:only-of-type {\n",
       "        vertical-align: middle;\n",
       "    }\n",
       "\n",
       "    .dataframe tbody tr th {\n",
       "        vertical-align: top;\n",
       "    }\n",
       "\n",
       "    .dataframe thead th {\n",
       "        text-align: right;\n",
       "    }\n",
       "</style>\n",
       "<table border=\"1\" class=\"dataframe\">\n",
       "  <thead>\n",
       "    <tr style=\"text-align: right;\">\n",
       "      <th></th>\n",
       "      <th>id</th>\n",
       "      <th>name</th>\n",
       "    </tr>\n",
       "  </thead>\n",
       "  <tbody>\n",
       "    <tr>\n",
       "      <th>0</th>\n",
       "      <td>1000001</td>\n",
       "      <td>Margot Robbie</td>\n",
       "    </tr>\n",
       "    <tr>\n",
       "      <th>1</th>\n",
       "      <td>1000001</td>\n",
       "      <td>Lewis Easter</td>\n",
       "    </tr>\n",
       "    <tr>\n",
       "      <th>2</th>\n",
       "      <td>1000001</td>\n",
       "      <td>Onyemachi Ejimofor</td>\n",
       "    </tr>\n",
       "    <tr>\n",
       "      <th>3</th>\n",
       "      <td>1000001</td>\n",
       "      <td>Cameron Everitt</td>\n",
       "    </tr>\n",
       "    <tr>\n",
       "      <th>4</th>\n",
       "      <td>1000001</td>\n",
       "      <td>Luke Field-Wright</td>\n",
       "    </tr>\n",
       "    <tr>\n",
       "      <th>...</th>\n",
       "      <td>...</td>\n",
       "      <td>...</td>\n",
       "    </tr>\n",
       "    <tr>\n",
       "      <th>5523322</th>\n",
       "      <td>1896377</td>\n",
       "      <td>Nikita Dzhigurda</td>\n",
       "    </tr>\n",
       "    <tr>\n",
       "      <th>5523323</th>\n",
       "      <td>1896382</td>\n",
       "      <td>Marine Petrosyan</td>\n",
       "    </tr>\n",
       "    <tr>\n",
       "      <th>5523324</th>\n",
       "      <td>1896387</td>\n",
       "      <td>Rebecca Jim</td>\n",
       "    </tr>\n",
       "    <tr>\n",
       "      <th>5523325</th>\n",
       "      <td>1896391</td>\n",
       "      <td>Ko Shibasaki</td>\n",
       "    </tr>\n",
       "    <tr>\n",
       "      <th>5523326</th>\n",
       "      <td>1896393</td>\n",
       "      <td>Atsuhiro Inukai</td>\n",
       "    </tr>\n",
       "  </tbody>\n",
       "</table>\n",
       "<p>5523327 rows × 2 columns</p>\n",
       "</div>"
      ],
      "text/plain": [
       "              id                name\n",
       "0        1000001       Margot Robbie\n",
       "1        1000001        Lewis Easter\n",
       "2        1000001  Onyemachi Ejimofor\n",
       "3        1000001     Cameron Everitt\n",
       "4        1000001   Luke Field-Wright\n",
       "...          ...                 ...\n",
       "5523322  1896377    Nikita Dzhigurda\n",
       "5523323  1896382    Marine Petrosyan\n",
       "5523324  1896387         Rebecca Jim\n",
       "5523325  1896391        Ko Shibasaki\n",
       "5523326  1896393     Atsuhiro Inukai\n",
       "\n",
       "[5523327 rows x 2 columns]"
      ]
     },
     "execution_count": 2,
     "metadata": {},
     "output_type": "execute_result"
    }
   ],
   "source": [
    "df1 = pd.read_csv('actors.csv')\n",
    "df1"
   ]
  },
  {
   "cell_type": "markdown",
   "metadata": {
    "id": "-7d9j7w9e0gQ"
   },
   "source": [
    "## Dataset Genres"
   ]
  },
  {
   "cell_type": "code",
   "execution_count": 3,
   "metadata": {
    "colab": {
     "base_uri": "https://localhost:8080/",
     "height": 424
    },
    "id": "eCJfEbZ5e0gQ",
    "outputId": "aea904cf-848d-4a52-e6ce-04cc82183603"
   },
   "outputs": [
    {
     "data": {
      "text/html": [
       "<div>\n",
       "<style scoped>\n",
       "    .dataframe tbody tr th:only-of-type {\n",
       "        vertical-align: middle;\n",
       "    }\n",
       "\n",
       "    .dataframe tbody tr th {\n",
       "        vertical-align: top;\n",
       "    }\n",
       "\n",
       "    .dataframe thead th {\n",
       "        text-align: right;\n",
       "    }\n",
       "</style>\n",
       "<table border=\"1\" class=\"dataframe\">\n",
       "  <thead>\n",
       "    <tr style=\"text-align: right;\">\n",
       "      <th></th>\n",
       "      <th>id</th>\n",
       "      <th>genre</th>\n",
       "    </tr>\n",
       "  </thead>\n",
       "  <tbody>\n",
       "    <tr>\n",
       "      <th>0</th>\n",
       "      <td>1000001</td>\n",
       "      <td>Comedy</td>\n",
       "    </tr>\n",
       "    <tr>\n",
       "      <th>1</th>\n",
       "      <td>1000001</td>\n",
       "      <td>Fantasy</td>\n",
       "    </tr>\n",
       "    <tr>\n",
       "      <th>2</th>\n",
       "      <td>1000001</td>\n",
       "      <td>Adventure</td>\n",
       "    </tr>\n",
       "    <tr>\n",
       "      <th>3</th>\n",
       "      <td>1000002</td>\n",
       "      <td>Comedy</td>\n",
       "    </tr>\n",
       "    <tr>\n",
       "      <th>4</th>\n",
       "      <td>1000002</td>\n",
       "      <td>Thriller</td>\n",
       "    </tr>\n",
       "    <tr>\n",
       "      <th>...</th>\n",
       "      <td>...</td>\n",
       "      <td>...</td>\n",
       "    </tr>\n",
       "    <tr>\n",
       "      <th>990765</th>\n",
       "      <td>1896380</td>\n",
       "      <td>Crime</td>\n",
       "    </tr>\n",
       "    <tr>\n",
       "      <th>990766</th>\n",
       "      <td>1896380</td>\n",
       "      <td>Drama</td>\n",
       "    </tr>\n",
       "    <tr>\n",
       "      <th>990767</th>\n",
       "      <td>1896382</td>\n",
       "      <td>Drama</td>\n",
       "    </tr>\n",
       "    <tr>\n",
       "      <th>990768</th>\n",
       "      <td>1896391</td>\n",
       "      <td>Music</td>\n",
       "    </tr>\n",
       "    <tr>\n",
       "      <th>990769</th>\n",
       "      <td>1896393</td>\n",
       "      <td>TV Movie</td>\n",
       "    </tr>\n",
       "  </tbody>\n",
       "</table>\n",
       "<p>990770 rows × 2 columns</p>\n",
       "</div>"
      ],
      "text/plain": [
       "             id      genre\n",
       "0       1000001     Comedy\n",
       "1       1000001    Fantasy\n",
       "2       1000001  Adventure\n",
       "3       1000002     Comedy\n",
       "4       1000002   Thriller\n",
       "...         ...        ...\n",
       "990765  1896380      Crime\n",
       "990766  1896380      Drama\n",
       "990767  1896382      Drama\n",
       "990768  1896391      Music\n",
       "990769  1896393   TV Movie\n",
       "\n",
       "[990770 rows x 2 columns]"
      ]
     },
     "execution_count": 3,
     "metadata": {},
     "output_type": "execute_result"
    }
   ],
   "source": [
    "df5 = pd.read_csv('genres.csv')\n",
    "df5"
   ]
  },
  {
   "cell_type": "markdown",
   "metadata": {
    "id": "q6sCRryve0gQ"
   },
   "source": [
    "## Dataset Language"
   ]
  },
  {
   "cell_type": "code",
   "execution_count": 4,
   "metadata": {
    "colab": {
     "base_uri": "https://localhost:8080/",
     "height": 424
    },
    "id": "tw512Jbhe0gQ",
    "outputId": "f901488c-1054-421e-a563-73e2633c8b3a"
   },
   "outputs": [
    {
     "data": {
      "text/html": [
       "<div>\n",
       "<style scoped>\n",
       "    .dataframe tbody tr th:only-of-type {\n",
       "        vertical-align: middle;\n",
       "    }\n",
       "\n",
       "    .dataframe tbody tr th {\n",
       "        vertical-align: top;\n",
       "    }\n",
       "\n",
       "    .dataframe thead th {\n",
       "        text-align: right;\n",
       "    }\n",
       "</style>\n",
       "<table border=\"1\" class=\"dataframe\">\n",
       "  <thead>\n",
       "    <tr style=\"text-align: right;\">\n",
       "      <th></th>\n",
       "      <th>id</th>\n",
       "      <th>type</th>\n",
       "      <th>language</th>\n",
       "    </tr>\n",
       "  </thead>\n",
       "  <tbody>\n",
       "    <tr>\n",
       "      <th>0</th>\n",
       "      <td>1000001</td>\n",
       "      <td>Language</td>\n",
       "      <td>English</td>\n",
       "    </tr>\n",
       "    <tr>\n",
       "      <th>1</th>\n",
       "      <td>1000002</td>\n",
       "      <td>Primary language</td>\n",
       "      <td>Korean</td>\n",
       "    </tr>\n",
       "    <tr>\n",
       "      <th>2</th>\n",
       "      <td>1000002</td>\n",
       "      <td>Spoken language</td>\n",
       "      <td>English</td>\n",
       "    </tr>\n",
       "    <tr>\n",
       "      <th>3</th>\n",
       "      <td>1000002</td>\n",
       "      <td>Spoken language</td>\n",
       "      <td>German</td>\n",
       "    </tr>\n",
       "    <tr>\n",
       "      <th>4</th>\n",
       "      <td>1000002</td>\n",
       "      <td>Spoken language</td>\n",
       "      <td>Korean</td>\n",
       "    </tr>\n",
       "    <tr>\n",
       "      <th>...</th>\n",
       "      <td>...</td>\n",
       "      <td>...</td>\n",
       "      <td>...</td>\n",
       "    </tr>\n",
       "    <tr>\n",
       "      <th>988821</th>\n",
       "      <td>1896389</td>\n",
       "      <td>Language</td>\n",
       "      <td>English</td>\n",
       "    </tr>\n",
       "    <tr>\n",
       "      <th>988822</th>\n",
       "      <td>1896390</td>\n",
       "      <td>Language</td>\n",
       "      <td>English</td>\n",
       "    </tr>\n",
       "    <tr>\n",
       "      <th>988823</th>\n",
       "      <td>1896391</td>\n",
       "      <td>Language</td>\n",
       "      <td>Japanese</td>\n",
       "    </tr>\n",
       "    <tr>\n",
       "      <th>988824</th>\n",
       "      <td>1896392</td>\n",
       "      <td>Language</td>\n",
       "      <td>Chinese</td>\n",
       "    </tr>\n",
       "    <tr>\n",
       "      <th>988825</th>\n",
       "      <td>1896393</td>\n",
       "      <td>Language</td>\n",
       "      <td>Japanese</td>\n",
       "    </tr>\n",
       "  </tbody>\n",
       "</table>\n",
       "<p>988826 rows × 3 columns</p>\n",
       "</div>"
      ],
      "text/plain": [
       "             id              type  language\n",
       "0       1000001          Language   English\n",
       "1       1000002  Primary language    Korean\n",
       "2       1000002   Spoken language   English\n",
       "3       1000002   Spoken language    German\n",
       "4       1000002   Spoken language    Korean\n",
       "...         ...               ...       ...\n",
       "988821  1896389          Language   English\n",
       "988822  1896390          Language   English\n",
       "988823  1896391          Language  Japanese\n",
       "988824  1896392          Language   Chinese\n",
       "988825  1896393          Language  Japanese\n",
       "\n",
       "[988826 rows x 3 columns]"
      ]
     },
     "execution_count": 4,
     "metadata": {},
     "output_type": "execute_result"
    }
   ],
   "source": [
    "df7 = pd.read_csv('languages.csv')\n",
    "df7"
   ]
  },
  {
   "cell_type": "markdown",
   "metadata": {
    "id": "U_JyKw9oe0gR"
   },
   "source": [
    "## Dataset Movies"
   ]
  },
  {
   "cell_type": "code",
   "execution_count": 5,
   "metadata": {
    "colab": {
     "base_uri": "https://localhost:8080/",
     "height": 615
    },
    "id": "srCJx3kAe0gR",
    "outputId": "d4b9db16-6014-4de1-e7b3-3534e8e34647"
   },
   "outputs": [
    {
     "data": {
      "text/html": [
       "<div>\n",
       "<style scoped>\n",
       "    .dataframe tbody tr th:only-of-type {\n",
       "        vertical-align: middle;\n",
       "    }\n",
       "\n",
       "    .dataframe tbody tr th {\n",
       "        vertical-align: top;\n",
       "    }\n",
       "\n",
       "    .dataframe thead th {\n",
       "        text-align: right;\n",
       "    }\n",
       "</style>\n",
       "<table border=\"1\" class=\"dataframe\">\n",
       "  <thead>\n",
       "    <tr style=\"text-align: right;\">\n",
       "      <th></th>\n",
       "      <th>id</th>\n",
       "      <th>name</th>\n",
       "      <th>date</th>\n",
       "      <th>tagline</th>\n",
       "      <th>description</th>\n",
       "      <th>minute</th>\n",
       "      <th>rating</th>\n",
       "    </tr>\n",
       "  </thead>\n",
       "  <tbody>\n",
       "    <tr>\n",
       "      <th>0</th>\n",
       "      <td>1000001</td>\n",
       "      <td>Barbie</td>\n",
       "      <td>2023.0</td>\n",
       "      <td>She's everything. He's just Ken.</td>\n",
       "      <td>Barbie and Ken are having the time of their li...</td>\n",
       "      <td>114.0</td>\n",
       "      <td>3.91</td>\n",
       "    </tr>\n",
       "    <tr>\n",
       "      <th>1</th>\n",
       "      <td>1000002</td>\n",
       "      <td>Parasite</td>\n",
       "      <td>2019.0</td>\n",
       "      <td>Act like you own the place.</td>\n",
       "      <td>All unemployed, Ki-taek's family takes peculia...</td>\n",
       "      <td>133.0</td>\n",
       "      <td>4.57</td>\n",
       "    </tr>\n",
       "    <tr>\n",
       "      <th>2</th>\n",
       "      <td>1000003</td>\n",
       "      <td>Everything Everywhere All at Once</td>\n",
       "      <td>2022.0</td>\n",
       "      <td>The universe is so much bigger than you realize.</td>\n",
       "      <td>An aging Chinese immigrant is swept up in an i...</td>\n",
       "      <td>140.0</td>\n",
       "      <td>4.32</td>\n",
       "    </tr>\n",
       "    <tr>\n",
       "      <th>3</th>\n",
       "      <td>1000004</td>\n",
       "      <td>Fight Club</td>\n",
       "      <td>1999.0</td>\n",
       "      <td>Mischief. Mayhem. Soap.</td>\n",
       "      <td>A ticking-time-bomb insomniac and a slippery s...</td>\n",
       "      <td>139.0</td>\n",
       "      <td>4.27</td>\n",
       "    </tr>\n",
       "    <tr>\n",
       "      <th>4</th>\n",
       "      <td>1000005</td>\n",
       "      <td>Interstellar</td>\n",
       "      <td>2014.0</td>\n",
       "      <td>Mankind was born on Earth. It was never meant ...</td>\n",
       "      <td>The adventures of a group of explorers who mak...</td>\n",
       "      <td>169.0</td>\n",
       "      <td>4.32</td>\n",
       "    </tr>\n",
       "    <tr>\n",
       "      <th>...</th>\n",
       "      <td>...</td>\n",
       "      <td>...</td>\n",
       "      <td>...</td>\n",
       "      <td>...</td>\n",
       "      <td>...</td>\n",
       "      <td>...</td>\n",
       "      <td>...</td>\n",
       "    </tr>\n",
       "    <tr>\n",
       "      <th>896395</th>\n",
       "      <td>1896389</td>\n",
       "      <td>伝七捕物帖 銀蛇呪文</td>\n",
       "      <td>NaN</td>\n",
       "      <td>NaN</td>\n",
       "      <td>Kofu duty guard Yamauchi Hinata-kami cultivate...</td>\n",
       "      <td>98.0</td>\n",
       "      <td>NaN</td>\n",
       "    </tr>\n",
       "    <tr>\n",
       "      <th>896396</th>\n",
       "      <td>1896390</td>\n",
       "      <td>太阳的子民 Sa'icelen</td>\n",
       "      <td>NaN</td>\n",
       "      <td>NaN</td>\n",
       "      <td>The government's discriminatory policies, wars...</td>\n",
       "      <td>38.0</td>\n",
       "      <td>NaN</td>\n",
       "    </tr>\n",
       "    <tr>\n",
       "      <th>896397</th>\n",
       "      <td>1896391</td>\n",
       "      <td>柴咲コウ CONCERT TOUR 2023 ACTOR'S THE BEST</td>\n",
       "      <td>NaN</td>\n",
       "      <td>NaN</td>\n",
       "      <td>KO SHIBASAKI CONCERT TOUR 2023 - ACTOR'S THE BEST</td>\n",
       "      <td>NaN</td>\n",
       "      <td>NaN</td>\n",
       "    </tr>\n",
       "    <tr>\n",
       "      <th>896398</th>\n",
       "      <td>1896392</td>\n",
       "      <td>相知相守民歌45演唱会</td>\n",
       "      <td>NaN</td>\n",
       "      <td>NaN</td>\n",
       "      <td>NaN</td>\n",
       "      <td>262.0</td>\n",
       "      <td>NaN</td>\n",
       "    </tr>\n",
       "    <tr>\n",
       "      <th>896399</th>\n",
       "      <td>1896393</td>\n",
       "      <td>絶対BLになる世界VS絶対BLになりたくない男 2024</td>\n",
       "      <td>NaN</td>\n",
       "      <td>NaN</td>\n",
       "      <td>One day, the protagonist realizes that he live...</td>\n",
       "      <td>NaN</td>\n",
       "      <td>NaN</td>\n",
       "    </tr>\n",
       "  </tbody>\n",
       "</table>\n",
       "<p>896400 rows × 7 columns</p>\n",
       "</div>"
      ],
      "text/plain": [
       "             id                                     name    date  \\\n",
       "0       1000001                                   Barbie  2023.0   \n",
       "1       1000002                                 Parasite  2019.0   \n",
       "2       1000003        Everything Everywhere All at Once  2022.0   \n",
       "3       1000004                               Fight Club  1999.0   \n",
       "4       1000005                             Interstellar  2014.0   \n",
       "...         ...                                      ...     ...   \n",
       "896395  1896389                               伝七捕物帖 銀蛇呪文     NaN   \n",
       "896396  1896390                          太阳的子民 Sa'icelen     NaN   \n",
       "896397  1896391  柴咲コウ CONCERT TOUR 2023 ACTOR'S THE BEST     NaN   \n",
       "896398  1896392                              相知相守民歌45演唱会     NaN   \n",
       "896399  1896393             絶対BLになる世界VS絶対BLになりたくない男 2024     NaN   \n",
       "\n",
       "                                                  tagline  \\\n",
       "0                        She's everything. He's just Ken.   \n",
       "1                             Act like you own the place.   \n",
       "2        The universe is so much bigger than you realize.   \n",
       "3                                 Mischief. Mayhem. Soap.   \n",
       "4       Mankind was born on Earth. It was never meant ...   \n",
       "...                                                   ...   \n",
       "896395                                                NaN   \n",
       "896396                                                NaN   \n",
       "896397                                                NaN   \n",
       "896398                                                NaN   \n",
       "896399                                                NaN   \n",
       "\n",
       "                                              description  minute  rating  \n",
       "0       Barbie and Ken are having the time of their li...   114.0    3.91  \n",
       "1       All unemployed, Ki-taek's family takes peculia...   133.0    4.57  \n",
       "2       An aging Chinese immigrant is swept up in an i...   140.0    4.32  \n",
       "3       A ticking-time-bomb insomniac and a slippery s...   139.0    4.27  \n",
       "4       The adventures of a group of explorers who mak...   169.0    4.32  \n",
       "...                                                   ...     ...     ...  \n",
       "896395  Kofu duty guard Yamauchi Hinata-kami cultivate...    98.0     NaN  \n",
       "896396  The government's discriminatory policies, wars...    38.0     NaN  \n",
       "896397  KO SHIBASAKI CONCERT TOUR 2023 - ACTOR'S THE BEST     NaN     NaN  \n",
       "896398                                                NaN   262.0     NaN  \n",
       "896399  One day, the protagonist realizes that he live...     NaN     NaN  \n",
       "\n",
       "[896400 rows x 7 columns]"
      ]
     },
     "execution_count": 5,
     "metadata": {},
     "output_type": "execute_result"
    }
   ],
   "source": [
    "df4 = pd.read_csv('movies.csv')\n",
    "df4"
   ]
  },
  {
   "cell_type": "markdown",
   "metadata": {
    "id": "5tMbNyvBAng9"
   },
   "source": [
    "# **EDA part 1: Data cleaning**"
   ]
  },
  {
   "cell_type": "markdown",
   "metadata": {
    "id": "K3cVIb9ZWmAl"
   },
   "source": [
    "Now our raw data consists of multiple datasets and isn't very clean, so we will need to do some wrangling. First let's load in the datasets"
   ]
  },
  {
   "cell_type": "code",
   "execution_count": 6,
   "metadata": {
    "id": "8802b96e"
   },
   "outputs": [],
   "source": [
    "# Imports\n",
    "%matplotlib inline\n",
    "\n",
    "import numpy as np\n",
    "import pandas as pd\n",
    "\n",
    "import matplotlib.pyplot as plt\n",
    "import ast\n",
    "import seaborn as sns\n",
    "sns.set()\n",
    "sns.set_context('talk')\n",
    "from collections import Counter\n",
    "import warnings\n",
    "warnings.filterwarnings('ignore')\n",
    "\n",
    "import patsy\n",
    "import statsmodels.api as sm\n",
    "import scipy.stats as stats\n",
    "from scipy.stats import ttest_ind, chisquare, normaltest\n",
    "# Note: the statsmodels import may print out a 'FutureWarning'. Thats fine."
   ]
  },
  {
   "cell_type": "markdown",
   "metadata": {
    "id": "sMjqLdemNq-f"
   },
   "source": [
    "### Group By Actor"
   ]
  },
  {
   "cell_type": "code",
   "execution_count": 7,
   "metadata": {
    "colab": {
     "base_uri": "https://localhost:8080/",
     "height": 206
    },
    "id": "9118d8e7",
    "outputId": "201ad7fd-a9ea-482e-b918-50da19ecc668"
   },
   "outputs": [
    {
     "data": {
      "text/html": [
       "<div>\n",
       "<style scoped>\n",
       "    .dataframe tbody tr th:only-of-type {\n",
       "        vertical-align: middle;\n",
       "    }\n",
       "\n",
       "    .dataframe tbody tr th {\n",
       "        vertical-align: top;\n",
       "    }\n",
       "\n",
       "    .dataframe thead th {\n",
       "        text-align: right;\n",
       "    }\n",
       "</style>\n",
       "<table border=\"1\" class=\"dataframe\">\n",
       "  <thead>\n",
       "    <tr style=\"text-align: right;\">\n",
       "      <th></th>\n",
       "      <th>id</th>\n",
       "      <th>actors</th>\n",
       "    </tr>\n",
       "  </thead>\n",
       "  <tbody>\n",
       "    <tr>\n",
       "      <th>0</th>\n",
       "      <td>1000001</td>\n",
       "      <td>[Margot Robbie, Lewis Easter, Onyemachi Ejimof...</td>\n",
       "    </tr>\n",
       "    <tr>\n",
       "      <th>1</th>\n",
       "      <td>1000002</td>\n",
       "      <td>[Rosie Peralta, Anna Elisabeth Rihlmann, Andre...</td>\n",
       "    </tr>\n",
       "    <tr>\n",
       "      <th>2</th>\n",
       "      <td>1000003</td>\n",
       "      <td>[Randall Archer, Boon Pin Koh, Efka Kvaracieju...</td>\n",
       "    </tr>\n",
       "    <tr>\n",
       "      <th>3</th>\n",
       "      <td>1000004</td>\n",
       "      <td>[Leonard Termo, Greg Bronson, Michael Arturo, ...</td>\n",
       "    </tr>\n",
       "    <tr>\n",
       "      <th>4</th>\n",
       "      <td>1000005</td>\n",
       "      <td>[Lena Georgas, Jeff Hephner, Elyes Gabel, Broo...</td>\n",
       "    </tr>\n",
       "  </tbody>\n",
       "</table>\n",
       "</div>"
      ],
      "text/plain": [
       "        id                                             actors\n",
       "0  1000001  [Margot Robbie, Lewis Easter, Onyemachi Ejimof...\n",
       "1  1000002  [Rosie Peralta, Anna Elisabeth Rihlmann, Andre...\n",
       "2  1000003  [Randall Archer, Boon Pin Koh, Efka Kvaracieju...\n",
       "3  1000004  [Leonard Termo, Greg Bronson, Michael Arturo, ...\n",
       "4  1000005  [Lena Georgas, Jeff Hephner, Elyes Gabel, Broo..."
      ]
     },
     "execution_count": 7,
     "metadata": {},
     "output_type": "execute_result"
    }
   ],
   "source": [
    "# Merge the names of actors with the same id together\n",
    "df1 = pd.read_csv('actors.csv')\n",
    "grouped1 = df1.groupby('id')['name'].apply(list).reset_index()\n",
    "grouped1.rename(columns={'name': 'actors'}, inplace=True)\n",
    "grouped1.head()\n"
   ]
  },
  {
   "cell_type": "markdown",
   "metadata": {
    "id": "NRfAgtbNN1O9"
   },
   "source": [
    "### Group By Genre"
   ]
  },
  {
   "cell_type": "code",
   "execution_count": 8,
   "metadata": {
    "colab": {
     "base_uri": "https://localhost:8080/",
     "height": 206
    },
    "id": "062dc7e4",
    "outputId": "b56ad352-7d85-4094-f750-0457de51c35d"
   },
   "outputs": [
    {
     "data": {
      "text/html": [
       "<div>\n",
       "<style scoped>\n",
       "    .dataframe tbody tr th:only-of-type {\n",
       "        vertical-align: middle;\n",
       "    }\n",
       "\n",
       "    .dataframe tbody tr th {\n",
       "        vertical-align: top;\n",
       "    }\n",
       "\n",
       "    .dataframe thead th {\n",
       "        text-align: right;\n",
       "    }\n",
       "</style>\n",
       "<table border=\"1\" class=\"dataframe\">\n",
       "  <thead>\n",
       "    <tr style=\"text-align: right;\">\n",
       "      <th></th>\n",
       "      <th>id</th>\n",
       "      <th>genre</th>\n",
       "    </tr>\n",
       "  </thead>\n",
       "  <tbody>\n",
       "    <tr>\n",
       "      <th>0</th>\n",
       "      <td>1000001</td>\n",
       "      <td>[Comedy, Fantasy, Adventure]</td>\n",
       "    </tr>\n",
       "    <tr>\n",
       "      <th>1</th>\n",
       "      <td>1000002</td>\n",
       "      <td>[Comedy, Thriller, Drama]</td>\n",
       "    </tr>\n",
       "    <tr>\n",
       "      <th>2</th>\n",
       "      <td>1000003</td>\n",
       "      <td>[Science Fiction, Action, Adventure]</td>\n",
       "    </tr>\n",
       "    <tr>\n",
       "      <th>3</th>\n",
       "      <td>1000004</td>\n",
       "      <td>[Drama]</td>\n",
       "    </tr>\n",
       "    <tr>\n",
       "      <th>4</th>\n",
       "      <td>1000005</td>\n",
       "      <td>[Science Fiction, Drama, Adventure]</td>\n",
       "    </tr>\n",
       "  </tbody>\n",
       "</table>\n",
       "</div>"
      ],
      "text/plain": [
       "        id                                 genre\n",
       "0  1000001          [Comedy, Fantasy, Adventure]\n",
       "1  1000002             [Comedy, Thriller, Drama]\n",
       "2  1000003  [Science Fiction, Action, Adventure]\n",
       "3  1000004                               [Drama]\n",
       "4  1000005   [Science Fiction, Drama, Adventure]"
      ]
     },
     "execution_count": 8,
     "metadata": {},
     "output_type": "execute_result"
    }
   ],
   "source": [
    "# Merge the genre with the same id together\n",
    "df5 = pd.read_csv('genres.csv')\n",
    "grouped5 = df5.groupby('id')['genre'].apply(list).reset_index()\n",
    "grouped5.head()\n"
   ]
  },
  {
   "cell_type": "markdown",
   "metadata": {
    "id": "POaPKeWLN3LF"
   },
   "source": [
    "### Group By Language"
   ]
  },
  {
   "cell_type": "code",
   "execution_count": 9,
   "metadata": {
    "id": "664af1aa",
    "outputId": "d91058f3-0a86-43e9-b7fa-eaba8dd6cb31"
   },
   "outputs": [
    {
     "data": {
      "text/html": [
       "<div>\n",
       "<style scoped>\n",
       "    .dataframe tbody tr th:only-of-type {\n",
       "        vertical-align: middle;\n",
       "    }\n",
       "\n",
       "    .dataframe tbody tr th {\n",
       "        vertical-align: top;\n",
       "    }\n",
       "\n",
       "    .dataframe thead th {\n",
       "        text-align: right;\n",
       "    }\n",
       "</style>\n",
       "<table border=\"1\" class=\"dataframe\">\n",
       "  <thead>\n",
       "    <tr style=\"text-align: right;\">\n",
       "      <th></th>\n",
       "      <th>id</th>\n",
       "      <th>type</th>\n",
       "      <th>language</th>\n",
       "    </tr>\n",
       "  </thead>\n",
       "  <tbody>\n",
       "    <tr>\n",
       "      <th>0</th>\n",
       "      <td>1000001</td>\n",
       "      <td>Language</td>\n",
       "      <td>English</td>\n",
       "    </tr>\n",
       "    <tr>\n",
       "      <th>1</th>\n",
       "      <td>1000002</td>\n",
       "      <td>Primary language</td>\n",
       "      <td>Korean</td>\n",
       "    </tr>\n",
       "    <tr>\n",
       "      <th>5</th>\n",
       "      <td>1000003</td>\n",
       "      <td>Primary language</td>\n",
       "      <td>English</td>\n",
       "    </tr>\n",
       "    <tr>\n",
       "      <th>9</th>\n",
       "      <td>1000004</td>\n",
       "      <td>Language</td>\n",
       "      <td>English</td>\n",
       "    </tr>\n",
       "    <tr>\n",
       "      <th>10</th>\n",
       "      <td>1000005</td>\n",
       "      <td>Language</td>\n",
       "      <td>English</td>\n",
       "    </tr>\n",
       "  </tbody>\n",
       "</table>\n",
       "</div>"
      ],
      "text/plain": [
       "         id              type language\n",
       "0   1000001          Language  English\n",
       "1   1000002  Primary language   Korean\n",
       "5   1000003  Primary language  English\n",
       "9   1000004          Language  English\n",
       "10  1000005          Language  English"
      ]
     },
     "execution_count": 9,
     "metadata": {},
     "output_type": "execute_result"
    }
   ],
   "source": [
    "# Merge the type of 'Primary language' and the column of 'language' with the same id together\n",
    "df7 = pd.read_csv('languages.csv')\n",
    "filtered_df7 = df7[df7['type'].isin(['Language', 'Primary language'])]\n",
    "filtered_df7.head()"
   ]
  },
  {
   "cell_type": "markdown",
   "metadata": {
    "id": "1XFf26dxN5gX"
   },
   "source": [
    "### Group By Movie Title"
   ]
  },
  {
   "cell_type": "code",
   "execution_count": 10,
   "metadata": {
    "id": "df48ddf9"
   },
   "outputs": [
    {
     "data": {
      "text/html": [
       "<div>\n",
       "<style scoped>\n",
       "    .dataframe tbody tr th:only-of-type {\n",
       "        vertical-align: middle;\n",
       "    }\n",
       "\n",
       "    .dataframe tbody tr th {\n",
       "        vertical-align: top;\n",
       "    }\n",
       "\n",
       "    .dataframe thead th {\n",
       "        text-align: right;\n",
       "    }\n",
       "</style>\n",
       "<table border=\"1\" class=\"dataframe\">\n",
       "  <thead>\n",
       "    <tr style=\"text-align: right;\">\n",
       "      <th></th>\n",
       "      <th>id</th>\n",
       "      <th>movie</th>\n",
       "      <th>date</th>\n",
       "      <th>tagline</th>\n",
       "      <th>description</th>\n",
       "      <th>minute</th>\n",
       "      <th>rating</th>\n",
       "      <th>actors</th>\n",
       "    </tr>\n",
       "  </thead>\n",
       "  <tbody>\n",
       "    <tr>\n",
       "      <th>0</th>\n",
       "      <td>1000001</td>\n",
       "      <td>Barbie</td>\n",
       "      <td>2023.0</td>\n",
       "      <td>She's everything. He's just Ken.</td>\n",
       "      <td>Barbie and Ken are having the time of their li...</td>\n",
       "      <td>114.0</td>\n",
       "      <td>3.91</td>\n",
       "      <td>[Margot Robbie, Lewis Easter, Onyemachi Ejimof...</td>\n",
       "    </tr>\n",
       "    <tr>\n",
       "      <th>1</th>\n",
       "      <td>1000002</td>\n",
       "      <td>Parasite</td>\n",
       "      <td>2019.0</td>\n",
       "      <td>Act like you own the place.</td>\n",
       "      <td>All unemployed, Ki-taek's family takes peculia...</td>\n",
       "      <td>133.0</td>\n",
       "      <td>4.57</td>\n",
       "      <td>[Rosie Peralta, Anna Elisabeth Rihlmann, Andre...</td>\n",
       "    </tr>\n",
       "    <tr>\n",
       "      <th>2</th>\n",
       "      <td>1000003</td>\n",
       "      <td>Everything Everywhere All at Once</td>\n",
       "      <td>2022.0</td>\n",
       "      <td>The universe is so much bigger than you realize.</td>\n",
       "      <td>An aging Chinese immigrant is swept up in an i...</td>\n",
       "      <td>140.0</td>\n",
       "      <td>4.32</td>\n",
       "      <td>[Randall Archer, Boon Pin Koh, Efka Kvaracieju...</td>\n",
       "    </tr>\n",
       "    <tr>\n",
       "      <th>3</th>\n",
       "      <td>1000004</td>\n",
       "      <td>Fight Club</td>\n",
       "      <td>1999.0</td>\n",
       "      <td>Mischief. Mayhem. Soap.</td>\n",
       "      <td>A ticking-time-bomb insomniac and a slippery s...</td>\n",
       "      <td>139.0</td>\n",
       "      <td>4.27</td>\n",
       "      <td>[Leonard Termo, Greg Bronson, Michael Arturo, ...</td>\n",
       "    </tr>\n",
       "    <tr>\n",
       "      <th>4</th>\n",
       "      <td>1000005</td>\n",
       "      <td>Interstellar</td>\n",
       "      <td>2014.0</td>\n",
       "      <td>Mankind was born on Earth. It was never meant ...</td>\n",
       "      <td>The adventures of a group of explorers who mak...</td>\n",
       "      <td>169.0</td>\n",
       "      <td>4.32</td>\n",
       "      <td>[Lena Georgas, Jeff Hephner, Elyes Gabel, Broo...</td>\n",
       "    </tr>\n",
       "  </tbody>\n",
       "</table>\n",
       "</div>"
      ],
      "text/plain": [
       "        id                              movie    date  \\\n",
       "0  1000001                             Barbie  2023.0   \n",
       "1  1000002                           Parasite  2019.0   \n",
       "2  1000003  Everything Everywhere All at Once  2022.0   \n",
       "3  1000004                         Fight Club  1999.0   \n",
       "4  1000005                       Interstellar  2014.0   \n",
       "\n",
       "                                             tagline  \\\n",
       "0                   She's everything. He's just Ken.   \n",
       "1                        Act like you own the place.   \n",
       "2   The universe is so much bigger than you realize.   \n",
       "3                            Mischief. Mayhem. Soap.   \n",
       "4  Mankind was born on Earth. It was never meant ...   \n",
       "\n",
       "                                         description  minute  rating  \\\n",
       "0  Barbie and Ken are having the time of their li...   114.0    3.91   \n",
       "1  All unemployed, Ki-taek's family takes peculia...   133.0    4.57   \n",
       "2  An aging Chinese immigrant is swept up in an i...   140.0    4.32   \n",
       "3  A ticking-time-bomb insomniac and a slippery s...   139.0    4.27   \n",
       "4  The adventures of a group of explorers who mak...   169.0    4.32   \n",
       "\n",
       "                                              actors  \n",
       "0  [Margot Robbie, Lewis Easter, Onyemachi Ejimof...  \n",
       "1  [Rosie Peralta, Anna Elisabeth Rihlmann, Andre...  \n",
       "2  [Randall Archer, Boon Pin Koh, Efka Kvaracieju...  \n",
       "3  [Leonard Termo, Greg Bronson, Michael Arturo, ...  \n",
       "4  [Lena Georgas, Jeff Hephner, Elyes Gabel, Broo...  "
      ]
     },
     "execution_count": 10,
     "metadata": {},
     "output_type": "execute_result"
    }
   ],
   "source": [
    "# Merge the movie with the same id together\n",
    "df4 = pd.read_csv('movies.csv')\n",
    "df4.rename(columns={'name': 'movie'}, inplace=True)\n",
    "merged_df14 = pd.merge(df4, grouped1, on='id', how='left')\n",
    "merged_df14.head()"
   ]
  },
  {
   "cell_type": "markdown",
   "metadata": {
    "id": "ro8lbBwjOJKG"
   },
   "source": [
    "### Group by Director"
   ]
  },
  {
   "cell_type": "code",
   "execution_count": 11,
   "metadata": {
    "colab": {
     "base_uri": "https://localhost:8080/",
     "height": 206
    },
    "id": "0672afd7",
    "outputId": "6c60a696-2641-489a-e578-3bfe50d9fcf0"
   },
   "outputs": [
    {
     "data": {
      "text/html": [
       "<div>\n",
       "<style scoped>\n",
       "    .dataframe tbody tr th:only-of-type {\n",
       "        vertical-align: middle;\n",
       "    }\n",
       "\n",
       "    .dataframe tbody tr th {\n",
       "        vertical-align: top;\n",
       "    }\n",
       "\n",
       "    .dataframe thead th {\n",
       "        text-align: right;\n",
       "    }\n",
       "</style>\n",
       "<table border=\"1\" class=\"dataframe\">\n",
       "  <thead>\n",
       "    <tr style=\"text-align: right;\">\n",
       "      <th></th>\n",
       "      <th>id</th>\n",
       "      <th>director</th>\n",
       "    </tr>\n",
       "  </thead>\n",
       "  <tbody>\n",
       "    <tr>\n",
       "      <th>0</th>\n",
       "      <td>1000001</td>\n",
       "      <td>[Greta Gerwig]</td>\n",
       "    </tr>\n",
       "    <tr>\n",
       "      <th>1</th>\n",
       "      <td>1000002</td>\n",
       "      <td>[Bong Joon-ho]</td>\n",
       "    </tr>\n",
       "    <tr>\n",
       "      <th>2</th>\n",
       "      <td>1000003</td>\n",
       "      <td>[Daniel Kwan, Daniel Scheinert]</td>\n",
       "    </tr>\n",
       "    <tr>\n",
       "      <th>3</th>\n",
       "      <td>1000004</td>\n",
       "      <td>[David Fincher]</td>\n",
       "    </tr>\n",
       "    <tr>\n",
       "      <th>4</th>\n",
       "      <td>1000005</td>\n",
       "      <td>[Christopher Nolan]</td>\n",
       "    </tr>\n",
       "  </tbody>\n",
       "</table>\n",
       "</div>"
      ],
      "text/plain": [
       "        id                         director\n",
       "0  1000001                   [Greta Gerwig]\n",
       "1  1000002                   [Bong Joon-ho]\n",
       "2  1000003  [Daniel Kwan, Daniel Scheinert]\n",
       "3  1000004                  [David Fincher]\n",
       "4  1000005              [Christopher Nolan]"
      ]
     },
     "execution_count": 11,
     "metadata": {},
     "output_type": "execute_result"
    }
   ],
   "source": [
    "# Merge the director with the same id together\n",
    "df6 = pd.read_csv('crew.csv')\n",
    "directors_df6 = df6[df6['role'] == 'Director']\n",
    "directors_df6.rename(columns={'name': 'director'}, inplace=True)\n",
    "directors_df6.drop(columns='role', inplace=True)\n",
    "grouped6 = directors_df6.groupby('id')['director'].apply(list).reset_index()\n",
    "grouped6.head()"
   ]
  },
  {
   "cell_type": "markdown",
   "metadata": {
    "id": "WCeoeJQ4N8id"
   },
   "source": [
    "### Merge the Groupings"
   ]
  },
  {
   "cell_type": "code",
   "execution_count": 12,
   "metadata": {
    "colab": {
     "base_uri": "https://localhost:8080/",
     "height": 678
    },
    "id": "c09027ac",
    "outputId": "e8112d2e-bd6f-4799-f4d0-f5820f56885f"
   },
   "outputs": [
    {
     "data": {
      "text/html": [
       "<div>\n",
       "<style scoped>\n",
       "    .dataframe tbody tr th:only-of-type {\n",
       "        vertical-align: middle;\n",
       "    }\n",
       "\n",
       "    .dataframe tbody tr th {\n",
       "        vertical-align: top;\n",
       "    }\n",
       "\n",
       "    .dataframe thead th {\n",
       "        text-align: right;\n",
       "    }\n",
       "</style>\n",
       "<table border=\"1\" class=\"dataframe\">\n",
       "  <thead>\n",
       "    <tr style=\"text-align: right;\">\n",
       "      <th></th>\n",
       "      <th>id</th>\n",
       "      <th>movie</th>\n",
       "      <th>date</th>\n",
       "      <th>tagline</th>\n",
       "      <th>description</th>\n",
       "      <th>minute</th>\n",
       "      <th>rating</th>\n",
       "      <th>actors</th>\n",
       "      <th>genre</th>\n",
       "      <th>type</th>\n",
       "      <th>language</th>\n",
       "      <th>director</th>\n",
       "    </tr>\n",
       "  </thead>\n",
       "  <tbody>\n",
       "    <tr>\n",
       "      <th>0</th>\n",
       "      <td>1000001</td>\n",
       "      <td>Barbie</td>\n",
       "      <td>2023.0</td>\n",
       "      <td>She's everything. He's just Ken.</td>\n",
       "      <td>Barbie and Ken are having the time of their li...</td>\n",
       "      <td>114.0</td>\n",
       "      <td>3.91</td>\n",
       "      <td>[Margot Robbie, Lewis Easter, Onyemachi Ejimof...</td>\n",
       "      <td>[Comedy, Fantasy, Adventure]</td>\n",
       "      <td>Language</td>\n",
       "      <td>English</td>\n",
       "      <td>[Greta Gerwig]</td>\n",
       "    </tr>\n",
       "    <tr>\n",
       "      <th>1</th>\n",
       "      <td>1000002</td>\n",
       "      <td>Parasite</td>\n",
       "      <td>2019.0</td>\n",
       "      <td>Act like you own the place.</td>\n",
       "      <td>All unemployed, Ki-taek's family takes peculia...</td>\n",
       "      <td>133.0</td>\n",
       "      <td>4.57</td>\n",
       "      <td>[Rosie Peralta, Anna Elisabeth Rihlmann, Andre...</td>\n",
       "      <td>[Comedy, Thriller, Drama]</td>\n",
       "      <td>Primary language</td>\n",
       "      <td>Korean</td>\n",
       "      <td>[Bong Joon-ho]</td>\n",
       "    </tr>\n",
       "    <tr>\n",
       "      <th>2</th>\n",
       "      <td>1000003</td>\n",
       "      <td>Everything Everywhere All at Once</td>\n",
       "      <td>2022.0</td>\n",
       "      <td>The universe is so much bigger than you realize.</td>\n",
       "      <td>An aging Chinese immigrant is swept up in an i...</td>\n",
       "      <td>140.0</td>\n",
       "      <td>4.32</td>\n",
       "      <td>[Randall Archer, Boon Pin Koh, Efka Kvaracieju...</td>\n",
       "      <td>[Science Fiction, Action, Adventure]</td>\n",
       "      <td>Primary language</td>\n",
       "      <td>English</td>\n",
       "      <td>[Daniel Kwan, Daniel Scheinert]</td>\n",
       "    </tr>\n",
       "    <tr>\n",
       "      <th>3</th>\n",
       "      <td>1000004</td>\n",
       "      <td>Fight Club</td>\n",
       "      <td>1999.0</td>\n",
       "      <td>Mischief. Mayhem. Soap.</td>\n",
       "      <td>A ticking-time-bomb insomniac and a slippery s...</td>\n",
       "      <td>139.0</td>\n",
       "      <td>4.27</td>\n",
       "      <td>[Leonard Termo, Greg Bronson, Michael Arturo, ...</td>\n",
       "      <td>[Drama]</td>\n",
       "      <td>Language</td>\n",
       "      <td>English</td>\n",
       "      <td>[David Fincher]</td>\n",
       "    </tr>\n",
       "    <tr>\n",
       "      <th>4</th>\n",
       "      <td>1000005</td>\n",
       "      <td>Interstellar</td>\n",
       "      <td>2014.0</td>\n",
       "      <td>Mankind was born on Earth. It was never meant ...</td>\n",
       "      <td>The adventures of a group of explorers who mak...</td>\n",
       "      <td>169.0</td>\n",
       "      <td>4.32</td>\n",
       "      <td>[Lena Georgas, Jeff Hephner, Elyes Gabel, Broo...</td>\n",
       "      <td>[Science Fiction, Drama, Adventure]</td>\n",
       "      <td>Language</td>\n",
       "      <td>English</td>\n",
       "      <td>[Christopher Nolan]</td>\n",
       "    </tr>\n",
       "  </tbody>\n",
       "</table>\n",
       "</div>"
      ],
      "text/plain": [
       "        id                              movie    date  \\\n",
       "0  1000001                             Barbie  2023.0   \n",
       "1  1000002                           Parasite  2019.0   \n",
       "2  1000003  Everything Everywhere All at Once  2022.0   \n",
       "3  1000004                         Fight Club  1999.0   \n",
       "4  1000005                       Interstellar  2014.0   \n",
       "\n",
       "                                             tagline  \\\n",
       "0                   She's everything. He's just Ken.   \n",
       "1                        Act like you own the place.   \n",
       "2   The universe is so much bigger than you realize.   \n",
       "3                            Mischief. Mayhem. Soap.   \n",
       "4  Mankind was born on Earth. It was never meant ...   \n",
       "\n",
       "                                         description  minute  rating  \\\n",
       "0  Barbie and Ken are having the time of their li...   114.0    3.91   \n",
       "1  All unemployed, Ki-taek's family takes peculia...   133.0    4.57   \n",
       "2  An aging Chinese immigrant is swept up in an i...   140.0    4.32   \n",
       "3  A ticking-time-bomb insomniac and a slippery s...   139.0    4.27   \n",
       "4  The adventures of a group of explorers who mak...   169.0    4.32   \n",
       "\n",
       "                                              actors  \\\n",
       "0  [Margot Robbie, Lewis Easter, Onyemachi Ejimof...   \n",
       "1  [Rosie Peralta, Anna Elisabeth Rihlmann, Andre...   \n",
       "2  [Randall Archer, Boon Pin Koh, Efka Kvaracieju...   \n",
       "3  [Leonard Termo, Greg Bronson, Michael Arturo, ...   \n",
       "4  [Lena Georgas, Jeff Hephner, Elyes Gabel, Broo...   \n",
       "\n",
       "                                  genre              type language  \\\n",
       "0          [Comedy, Fantasy, Adventure]          Language  English   \n",
       "1             [Comedy, Thriller, Drama]  Primary language   Korean   \n",
       "2  [Science Fiction, Action, Adventure]  Primary language  English   \n",
       "3                               [Drama]          Language  English   \n",
       "4   [Science Fiction, Drama, Adventure]          Language  English   \n",
       "\n",
       "                          director  \n",
       "0                   [Greta Gerwig]  \n",
       "1                   [Bong Joon-ho]  \n",
       "2  [Daniel Kwan, Daniel Scheinert]  \n",
       "3                  [David Fincher]  \n",
       "4              [Christopher Nolan]  "
      ]
     },
     "execution_count": 12,
     "metadata": {},
     "output_type": "execute_result"
    }
   ],
   "source": [
    "# Combine 'id', 'movie', 'date', 'rating', 'actor', 'genre', 'language', and 'director' into one dataset\n",
    "merged_df145 = pd.merge(merged_df14, grouped5, on='id', how='left')\n",
    "merged_df1457 = pd.merge(merged_df145, filtered_df7, on='id', how='left')\n",
    "merged_df14576 = pd.merge(merged_df1457, grouped6, on='id', how='left')\n",
    "merged_df14576.head()"
   ]
  },
  {
   "cell_type": "markdown",
   "metadata": {
    "id": "6YgjKtTnOWta"
   },
   "source": [
    "### Dropping 'tagline', 'description', 'minute', 'type' Variables"
   ]
  },
  {
   "cell_type": "code",
   "execution_count": 13,
   "metadata": {
    "colab": {
     "base_uri": "https://localhost:8080/",
     "height": 1000
    },
    "id": "78c47804",
    "outputId": "307e1c98-a88d-4bb1-c81b-6796253915f6",
    "scrolled": true
   },
   "outputs": [
    {
     "data": {
      "text/html": [
       "<div>\n",
       "<style scoped>\n",
       "    .dataframe tbody tr th:only-of-type {\n",
       "        vertical-align: middle;\n",
       "    }\n",
       "\n",
       "    .dataframe tbody tr th {\n",
       "        vertical-align: top;\n",
       "    }\n",
       "\n",
       "    .dataframe thead th {\n",
       "        text-align: right;\n",
       "    }\n",
       "</style>\n",
       "<table border=\"1\" class=\"dataframe\">\n",
       "  <thead>\n",
       "    <tr style=\"text-align: right;\">\n",
       "      <th></th>\n",
       "      <th>id</th>\n",
       "      <th>movie</th>\n",
       "      <th>date</th>\n",
       "      <th>rating</th>\n",
       "      <th>actors</th>\n",
       "      <th>genre</th>\n",
       "      <th>language</th>\n",
       "      <th>director</th>\n",
       "    </tr>\n",
       "  </thead>\n",
       "  <tbody>\n",
       "    <tr>\n",
       "      <th>0</th>\n",
       "      <td>1000001</td>\n",
       "      <td>Barbie</td>\n",
       "      <td>2023.0</td>\n",
       "      <td>3.91</td>\n",
       "      <td>[Margot Robbie, Lewis Easter, Onyemachi Ejimof...</td>\n",
       "      <td>[Comedy, Fantasy, Adventure]</td>\n",
       "      <td>English</td>\n",
       "      <td>[Greta Gerwig]</td>\n",
       "    </tr>\n",
       "    <tr>\n",
       "      <th>1</th>\n",
       "      <td>1000002</td>\n",
       "      <td>Parasite</td>\n",
       "      <td>2019.0</td>\n",
       "      <td>4.57</td>\n",
       "      <td>[Rosie Peralta, Anna Elisabeth Rihlmann, Andre...</td>\n",
       "      <td>[Comedy, Thriller, Drama]</td>\n",
       "      <td>Korean</td>\n",
       "      <td>[Bong Joon-ho]</td>\n",
       "    </tr>\n",
       "    <tr>\n",
       "      <th>2</th>\n",
       "      <td>1000003</td>\n",
       "      <td>Everything Everywhere All at Once</td>\n",
       "      <td>2022.0</td>\n",
       "      <td>4.32</td>\n",
       "      <td>[Randall Archer, Boon Pin Koh, Efka Kvaracieju...</td>\n",
       "      <td>[Science Fiction, Action, Adventure]</td>\n",
       "      <td>English</td>\n",
       "      <td>[Daniel Kwan, Daniel Scheinert]</td>\n",
       "    </tr>\n",
       "    <tr>\n",
       "      <th>3</th>\n",
       "      <td>1000004</td>\n",
       "      <td>Fight Club</td>\n",
       "      <td>1999.0</td>\n",
       "      <td>4.27</td>\n",
       "      <td>[Leonard Termo, Greg Bronson, Michael Arturo, ...</td>\n",
       "      <td>[Drama]</td>\n",
       "      <td>English</td>\n",
       "      <td>[David Fincher]</td>\n",
       "    </tr>\n",
       "    <tr>\n",
       "      <th>4</th>\n",
       "      <td>1000005</td>\n",
       "      <td>Interstellar</td>\n",
       "      <td>2014.0</td>\n",
       "      <td>4.32</td>\n",
       "      <td>[Lena Georgas, Jeff Hephner, Elyes Gabel, Broo...</td>\n",
       "      <td>[Science Fiction, Drama, Adventure]</td>\n",
       "      <td>English</td>\n",
       "      <td>[Christopher Nolan]</td>\n",
       "    </tr>\n",
       "  </tbody>\n",
       "</table>\n",
       "</div>"
      ],
      "text/plain": [
       "        id                              movie    date  rating  \\\n",
       "0  1000001                             Barbie  2023.0    3.91   \n",
       "1  1000002                           Parasite  2019.0    4.57   \n",
       "2  1000003  Everything Everywhere All at Once  2022.0    4.32   \n",
       "3  1000004                         Fight Club  1999.0    4.27   \n",
       "4  1000005                       Interstellar  2014.0    4.32   \n",
       "\n",
       "                                              actors  \\\n",
       "0  [Margot Robbie, Lewis Easter, Onyemachi Ejimof...   \n",
       "1  [Rosie Peralta, Anna Elisabeth Rihlmann, Andre...   \n",
       "2  [Randall Archer, Boon Pin Koh, Efka Kvaracieju...   \n",
       "3  [Leonard Termo, Greg Bronson, Michael Arturo, ...   \n",
       "4  [Lena Georgas, Jeff Hephner, Elyes Gabel, Broo...   \n",
       "\n",
       "                                  genre language  \\\n",
       "0          [Comedy, Fantasy, Adventure]  English   \n",
       "1             [Comedy, Thriller, Drama]   Korean   \n",
       "2  [Science Fiction, Action, Adventure]  English   \n",
       "3                               [Drama]  English   \n",
       "4   [Science Fiction, Drama, Adventure]  English   \n",
       "\n",
       "                          director  \n",
       "0                   [Greta Gerwig]  \n",
       "1                   [Bong Joon-ho]  \n",
       "2  [Daniel Kwan, Daniel Scheinert]  \n",
       "3                  [David Fincher]  \n",
       "4              [Christopher Nolan]  "
      ]
     },
     "execution_count": 13,
     "metadata": {},
     "output_type": "execute_result"
    }
   ],
   "source": [
    "# Delete the columns of 'tagline', 'description', 'minute', and 'type'\n",
    "merged_df14576.drop(columns=['tagline', 'description', 'minute', 'type'], inplace=True)\n",
    "merged_df14576.head()"
   ]
  },
  {
   "cell_type": "markdown",
   "metadata": {
    "id": "D2QZMhWzOiK7"
   },
   "source": [
    "### Eliminate Movies that are Outdated"
   ]
  },
  {
   "cell_type": "code",
   "execution_count": 14,
   "metadata": {
    "colab": {
     "base_uri": "https://localhost:8080/",
     "height": 771
    },
    "id": "27ce29c6",
    "outputId": "207f01ce-8455-4db5-ebe1-474bbc19efd9"
   },
   "outputs": [
    {
     "data": {
      "text/html": [
       "<div>\n",
       "<style scoped>\n",
       "    .dataframe tbody tr th:only-of-type {\n",
       "        vertical-align: middle;\n",
       "    }\n",
       "\n",
       "    .dataframe tbody tr th {\n",
       "        vertical-align: top;\n",
       "    }\n",
       "\n",
       "    .dataframe thead th {\n",
       "        text-align: right;\n",
       "    }\n",
       "</style>\n",
       "<table border=\"1\" class=\"dataframe\">\n",
       "  <thead>\n",
       "    <tr style=\"text-align: right;\">\n",
       "      <th></th>\n",
       "      <th>id</th>\n",
       "      <th>movie</th>\n",
       "      <th>date</th>\n",
       "      <th>rating</th>\n",
       "      <th>actors</th>\n",
       "      <th>genre</th>\n",
       "      <th>language</th>\n",
       "      <th>director</th>\n",
       "    </tr>\n",
       "  </thead>\n",
       "  <tbody>\n",
       "    <tr>\n",
       "      <th>0</th>\n",
       "      <td>1000001</td>\n",
       "      <td>Barbie</td>\n",
       "      <td>2023.0</td>\n",
       "      <td>3.91</td>\n",
       "      <td>[Margot Robbie, Lewis Easter, Onyemachi Ejimof...</td>\n",
       "      <td>[Comedy, Fantasy, Adventure]</td>\n",
       "      <td>English</td>\n",
       "      <td>[Greta Gerwig]</td>\n",
       "    </tr>\n",
       "    <tr>\n",
       "      <th>1</th>\n",
       "      <td>1000002</td>\n",
       "      <td>Parasite</td>\n",
       "      <td>2019.0</td>\n",
       "      <td>4.57</td>\n",
       "      <td>[Rosie Peralta, Anna Elisabeth Rihlmann, Andre...</td>\n",
       "      <td>[Comedy, Thriller, Drama]</td>\n",
       "      <td>Korean</td>\n",
       "      <td>[Bong Joon-ho]</td>\n",
       "    </tr>\n",
       "    <tr>\n",
       "      <th>2</th>\n",
       "      <td>1000003</td>\n",
       "      <td>Everything Everywhere All at Once</td>\n",
       "      <td>2022.0</td>\n",
       "      <td>4.32</td>\n",
       "      <td>[Randall Archer, Boon Pin Koh, Efka Kvaracieju...</td>\n",
       "      <td>[Science Fiction, Action, Adventure]</td>\n",
       "      <td>English</td>\n",
       "      <td>[Daniel Kwan, Daniel Scheinert]</td>\n",
       "    </tr>\n",
       "    <tr>\n",
       "      <th>3</th>\n",
       "      <td>1000004</td>\n",
       "      <td>Fight Club</td>\n",
       "      <td>1999.0</td>\n",
       "      <td>4.27</td>\n",
       "      <td>[Leonard Termo, Greg Bronson, Michael Arturo, ...</td>\n",
       "      <td>[Drama]</td>\n",
       "      <td>English</td>\n",
       "      <td>[David Fincher]</td>\n",
       "    </tr>\n",
       "    <tr>\n",
       "      <th>4</th>\n",
       "      <td>1000005</td>\n",
       "      <td>Interstellar</td>\n",
       "      <td>2014.0</td>\n",
       "      <td>4.32</td>\n",
       "      <td>[Lena Georgas, Jeff Hephner, Elyes Gabel, Broo...</td>\n",
       "      <td>[Science Fiction, Drama, Adventure]</td>\n",
       "      <td>English</td>\n",
       "      <td>[Christopher Nolan]</td>\n",
       "    </tr>\n",
       "    <tr>\n",
       "      <th>...</th>\n",
       "      <td>...</td>\n",
       "      <td>...</td>\n",
       "      <td>...</td>\n",
       "      <td>...</td>\n",
       "      <td>...</td>\n",
       "      <td>...</td>\n",
       "      <td>...</td>\n",
       "      <td>...</td>\n",
       "    </tr>\n",
       "    <tr>\n",
       "      <th>895437</th>\n",
       "      <td>1895407</td>\n",
       "      <td>Loving You is My Destiny</td>\n",
       "      <td>1971.0</td>\n",
       "      <td>NaN</td>\n",
       "      <td>[Levent Dönmez, Sacide Keskin, Timuçin Caymaz,...</td>\n",
       "      <td>[Drama, Romance]</td>\n",
       "      <td>Turkish</td>\n",
       "      <td>[Orhan Aksoy]</td>\n",
       "    </tr>\n",
       "    <tr>\n",
       "      <th>895438</th>\n",
       "      <td>1895408</td>\n",
       "      <td>Our Round Earth: What It's Like</td>\n",
       "      <td>1971.0</td>\n",
       "      <td>NaN</td>\n",
       "      <td>NaN</td>\n",
       "      <td>[Documentary]</td>\n",
       "      <td>English</td>\n",
       "      <td>NaN</td>\n",
       "    </tr>\n",
       "    <tr>\n",
       "      <th>895439</th>\n",
       "      <td>1895409</td>\n",
       "      <td>Salgari Of Our Childhood</td>\n",
       "      <td>1971.0</td>\n",
       "      <td>NaN</td>\n",
       "      <td>[Omar Salgari]</td>\n",
       "      <td>NaN</td>\n",
       "      <td>Italian</td>\n",
       "      <td>[Corrado Farina]</td>\n",
       "    </tr>\n",
       "    <tr>\n",
       "      <th>895440</th>\n",
       "      <td>1895410</td>\n",
       "      <td>Small Smoke at Blaze Creek</td>\n",
       "      <td>1971.0</td>\n",
       "      <td>NaN</td>\n",
       "      <td>NaN</td>\n",
       "      <td>[Documentary]</td>\n",
       "      <td>English</td>\n",
       "      <td>[Michael J.F. Scott]</td>\n",
       "    </tr>\n",
       "    <tr>\n",
       "      <th>896394</th>\n",
       "      <td>1896364</td>\n",
       "      <td>Winterland</td>\n",
       "      <td>2019.0</td>\n",
       "      <td>NaN</td>\n",
       "      <td>[Cody Townsend, Robin Van Gyn, Mark Carter, Cl...</td>\n",
       "      <td>[Documentary]</td>\n",
       "      <td>English</td>\n",
       "      <td>[Todd Jones, Jon Klaczkiewicz, Steve Jones]</td>\n",
       "    </tr>\n",
       "  </tbody>\n",
       "</table>\n",
       "<p>680141 rows × 8 columns</p>\n",
       "</div>"
      ],
      "text/plain": [
       "             id                              movie    date  rating  \\\n",
       "0       1000001                             Barbie  2023.0    3.91   \n",
       "1       1000002                           Parasite  2019.0    4.57   \n",
       "2       1000003  Everything Everywhere All at Once  2022.0    4.32   \n",
       "3       1000004                         Fight Club  1999.0    4.27   \n",
       "4       1000005                       Interstellar  2014.0    4.32   \n",
       "...         ...                                ...     ...     ...   \n",
       "895437  1895407           Loving You is My Destiny  1971.0     NaN   \n",
       "895438  1895408    Our Round Earth: What It's Like  1971.0     NaN   \n",
       "895439  1895409           Salgari Of Our Childhood  1971.0     NaN   \n",
       "895440  1895410         Small Smoke at Blaze Creek  1971.0     NaN   \n",
       "896394  1896364                         Winterland  2019.0     NaN   \n",
       "\n",
       "                                                   actors  \\\n",
       "0       [Margot Robbie, Lewis Easter, Onyemachi Ejimof...   \n",
       "1       [Rosie Peralta, Anna Elisabeth Rihlmann, Andre...   \n",
       "2       [Randall Archer, Boon Pin Koh, Efka Kvaracieju...   \n",
       "3       [Leonard Termo, Greg Bronson, Michael Arturo, ...   \n",
       "4       [Lena Georgas, Jeff Hephner, Elyes Gabel, Broo...   \n",
       "...                                                   ...   \n",
       "895437  [Levent Dönmez, Sacide Keskin, Timuçin Caymaz,...   \n",
       "895438                                                NaN   \n",
       "895439                                     [Omar Salgari]   \n",
       "895440                                                NaN   \n",
       "896394  [Cody Townsend, Robin Van Gyn, Mark Carter, Cl...   \n",
       "\n",
       "                                       genre language  \\\n",
       "0               [Comedy, Fantasy, Adventure]  English   \n",
       "1                  [Comedy, Thriller, Drama]   Korean   \n",
       "2       [Science Fiction, Action, Adventure]  English   \n",
       "3                                    [Drama]  English   \n",
       "4        [Science Fiction, Drama, Adventure]  English   \n",
       "...                                      ...      ...   \n",
       "895437                      [Drama, Romance]  Turkish   \n",
       "895438                         [Documentary]  English   \n",
       "895439                                   NaN  Italian   \n",
       "895440                         [Documentary]  English   \n",
       "896394                         [Documentary]  English   \n",
       "\n",
       "                                           director  \n",
       "0                                    [Greta Gerwig]  \n",
       "1                                    [Bong Joon-ho]  \n",
       "2                   [Daniel Kwan, Daniel Scheinert]  \n",
       "3                                   [David Fincher]  \n",
       "4                               [Christopher Nolan]  \n",
       "...                                             ...  \n",
       "895437                                [Orhan Aksoy]  \n",
       "895438                                          NaN  \n",
       "895439                             [Corrado Farina]  \n",
       "895440                         [Michael J.F. Scott]  \n",
       "896394  [Todd Jones, Jon Klaczkiewicz, Steve Jones]  \n",
       "\n",
       "[680141 rows x 8 columns]"
      ]
     },
     "execution_count": 14,
     "metadata": {},
     "output_type": "execute_result"
    }
   ],
   "source": [
    "#We want to eliminate movies that are too old, and we decided that 1970 is a good year to draw the line\n",
    "merged_df14576['date'] = pd.to_numeric(merged_df14576['date'], errors='coerce')\n",
    "filtered_df = merged_df14576[merged_df14576['date'] > 1970.0]\n",
    "filtered_df"
   ]
  },
  {
   "cell_type": "markdown",
   "metadata": {
    "id": "uYVR91z3OqMm"
   },
   "source": [
    "### Drop Rows with Null Data"
   ]
  },
  {
   "cell_type": "code",
   "execution_count": 15,
   "metadata": {
    "colab": {
     "base_uri": "https://localhost:8080/",
     "height": 771
    },
    "id": "205e8fbf",
    "outputId": "a84dfca6-5fc5-40fe-d820-516f3f695443"
   },
   "outputs": [
    {
     "data": {
      "text/html": [
       "<div>\n",
       "<style scoped>\n",
       "    .dataframe tbody tr th:only-of-type {\n",
       "        vertical-align: middle;\n",
       "    }\n",
       "\n",
       "    .dataframe tbody tr th {\n",
       "        vertical-align: top;\n",
       "    }\n",
       "\n",
       "    .dataframe thead th {\n",
       "        text-align: right;\n",
       "    }\n",
       "</style>\n",
       "<table border=\"1\" class=\"dataframe\">\n",
       "  <thead>\n",
       "    <tr style=\"text-align: right;\">\n",
       "      <th></th>\n",
       "      <th>id</th>\n",
       "      <th>movie</th>\n",
       "      <th>date</th>\n",
       "      <th>rating</th>\n",
       "      <th>actors</th>\n",
       "      <th>genre</th>\n",
       "      <th>language</th>\n",
       "      <th>director</th>\n",
       "    </tr>\n",
       "  </thead>\n",
       "  <tbody>\n",
       "    <tr>\n",
       "      <th>0</th>\n",
       "      <td>1000001</td>\n",
       "      <td>Barbie</td>\n",
       "      <td>2023.0</td>\n",
       "      <td>3.91</td>\n",
       "      <td>[Margot Robbie, Lewis Easter, Onyemachi Ejimof...</td>\n",
       "      <td>[Comedy, Fantasy, Adventure]</td>\n",
       "      <td>English</td>\n",
       "      <td>[Greta Gerwig]</td>\n",
       "    </tr>\n",
       "    <tr>\n",
       "      <th>1</th>\n",
       "      <td>1000002</td>\n",
       "      <td>Parasite</td>\n",
       "      <td>2019.0</td>\n",
       "      <td>4.57</td>\n",
       "      <td>[Rosie Peralta, Anna Elisabeth Rihlmann, Andre...</td>\n",
       "      <td>[Comedy, Thriller, Drama]</td>\n",
       "      <td>Korean</td>\n",
       "      <td>[Bong Joon-ho]</td>\n",
       "    </tr>\n",
       "    <tr>\n",
       "      <th>2</th>\n",
       "      <td>1000003</td>\n",
       "      <td>Everything Everywhere All at Once</td>\n",
       "      <td>2022.0</td>\n",
       "      <td>4.32</td>\n",
       "      <td>[Randall Archer, Boon Pin Koh, Efka Kvaracieju...</td>\n",
       "      <td>[Science Fiction, Action, Adventure]</td>\n",
       "      <td>English</td>\n",
       "      <td>[Daniel Kwan, Daniel Scheinert]</td>\n",
       "    </tr>\n",
       "    <tr>\n",
       "      <th>3</th>\n",
       "      <td>1000004</td>\n",
       "      <td>Fight Club</td>\n",
       "      <td>1999.0</td>\n",
       "      <td>4.27</td>\n",
       "      <td>[Leonard Termo, Greg Bronson, Michael Arturo, ...</td>\n",
       "      <td>[Drama]</td>\n",
       "      <td>English</td>\n",
       "      <td>[David Fincher]</td>\n",
       "    </tr>\n",
       "    <tr>\n",
       "      <th>4</th>\n",
       "      <td>1000005</td>\n",
       "      <td>Interstellar</td>\n",
       "      <td>2014.0</td>\n",
       "      <td>4.32</td>\n",
       "      <td>[Lena Georgas, Jeff Hephner, Elyes Gabel, Broo...</td>\n",
       "      <td>[Science Fiction, Drama, Adventure]</td>\n",
       "      <td>English</td>\n",
       "      <td>[Christopher Nolan]</td>\n",
       "    </tr>\n",
       "    <tr>\n",
       "      <th>...</th>\n",
       "      <td>...</td>\n",
       "      <td>...</td>\n",
       "      <td>...</td>\n",
       "      <td>...</td>\n",
       "      <td>...</td>\n",
       "      <td>...</td>\n",
       "      <td>...</td>\n",
       "      <td>...</td>\n",
       "    </tr>\n",
       "    <tr>\n",
       "      <th>153113</th>\n",
       "      <td>1153114</td>\n",
       "      <td>Cinema Chupista Maava</td>\n",
       "      <td>2015.0</td>\n",
       "      <td>3.17</td>\n",
       "      <td>[Raj Tarun, Avika Gor, Rao Ramesh]</td>\n",
       "      <td>[Comedy, Romance, Family]</td>\n",
       "      <td>Telugu</td>\n",
       "      <td>[Trinadha Rao Nakkina]</td>\n",
       "    </tr>\n",
       "    <tr>\n",
       "      <th>153293</th>\n",
       "      <td>1153294</td>\n",
       "      <td>Los Angeles/Tehran</td>\n",
       "      <td>2018.0</td>\n",
       "      <td>2.24</td>\n",
       "      <td>[Parviz Parastouei, Mahnaz Afshar, Gohar Kheyr...</td>\n",
       "      <td>[Comedy]</td>\n",
       "      <td>Persian (Farsi)</td>\n",
       "      <td>[Tina Pakravan]</td>\n",
       "    </tr>\n",
       "    <tr>\n",
       "      <th>154615</th>\n",
       "      <td>1154616</td>\n",
       "      <td>Kutti Puli</td>\n",
       "      <td>2013.0</td>\n",
       "      <td>2.89</td>\n",
       "      <td>[G. Gnanasambandam, Raja Simman, Balasaravanan...</td>\n",
       "      <td>[Action, Thriller]</td>\n",
       "      <td>Tamil</td>\n",
       "      <td>[M. Muthaiah]</td>\n",
       "    </tr>\n",
       "    <tr>\n",
       "      <th>156022</th>\n",
       "      <td>1156023</td>\n",
       "      <td>To Steal a Thief</td>\n",
       "      <td>1996.0</td>\n",
       "      <td>2.94</td>\n",
       "      <td>[Eva Dahlman, Agneta Guldberg, Per-Erik Bergqu...</td>\n",
       "      <td>[Comedy, Crime]</td>\n",
       "      <td>Swedish</td>\n",
       "      <td>[Clas Lindberg]</td>\n",
       "    </tr>\n",
       "    <tr>\n",
       "      <th>158773</th>\n",
       "      <td>1158774</td>\n",
       "      <td>As Seen On Tv</td>\n",
       "      <td>2001.0</td>\n",
       "      <td>3.16</td>\n",
       "      <td>[Cecilia Frode, Anna Carlsten, Magnus Härensta...</td>\n",
       "      <td>[Comedy]</td>\n",
       "      <td>Swedish</td>\n",
       "      <td>[Fredrik Lindström]</td>\n",
       "    </tr>\n",
       "  </tbody>\n",
       "</table>\n",
       "<p>68318 rows × 8 columns</p>\n",
       "</div>"
      ],
      "text/plain": [
       "             id                              movie    date  rating  \\\n",
       "0       1000001                             Barbie  2023.0    3.91   \n",
       "1       1000002                           Parasite  2019.0    4.57   \n",
       "2       1000003  Everything Everywhere All at Once  2022.0    4.32   \n",
       "3       1000004                         Fight Club  1999.0    4.27   \n",
       "4       1000005                       Interstellar  2014.0    4.32   \n",
       "...         ...                                ...     ...     ...   \n",
       "153113  1153114              Cinema Chupista Maava  2015.0    3.17   \n",
       "153293  1153294                 Los Angeles/Tehran  2018.0    2.24   \n",
       "154615  1154616                         Kutti Puli  2013.0    2.89   \n",
       "156022  1156023                   To Steal a Thief  1996.0    2.94   \n",
       "158773  1158774                      As Seen On Tv  2001.0    3.16   \n",
       "\n",
       "                                                   actors  \\\n",
       "0       [Margot Robbie, Lewis Easter, Onyemachi Ejimof...   \n",
       "1       [Rosie Peralta, Anna Elisabeth Rihlmann, Andre...   \n",
       "2       [Randall Archer, Boon Pin Koh, Efka Kvaracieju...   \n",
       "3       [Leonard Termo, Greg Bronson, Michael Arturo, ...   \n",
       "4       [Lena Georgas, Jeff Hephner, Elyes Gabel, Broo...   \n",
       "...                                                   ...   \n",
       "153113                 [Raj Tarun, Avika Gor, Rao Ramesh]   \n",
       "153293  [Parviz Parastouei, Mahnaz Afshar, Gohar Kheyr...   \n",
       "154615  [G. Gnanasambandam, Raja Simman, Balasaravanan...   \n",
       "156022  [Eva Dahlman, Agneta Guldberg, Per-Erik Bergqu...   \n",
       "158773  [Cecilia Frode, Anna Carlsten, Magnus Härensta...   \n",
       "\n",
       "                                       genre         language  \\\n",
       "0               [Comedy, Fantasy, Adventure]          English   \n",
       "1                  [Comedy, Thriller, Drama]           Korean   \n",
       "2       [Science Fiction, Action, Adventure]          English   \n",
       "3                                    [Drama]          English   \n",
       "4        [Science Fiction, Drama, Adventure]          English   \n",
       "...                                      ...              ...   \n",
       "153113             [Comedy, Romance, Family]           Telugu   \n",
       "153293                              [Comedy]  Persian (Farsi)   \n",
       "154615                    [Action, Thriller]            Tamil   \n",
       "156022                       [Comedy, Crime]          Swedish   \n",
       "158773                              [Comedy]          Swedish   \n",
       "\n",
       "                               director  \n",
       "0                        [Greta Gerwig]  \n",
       "1                        [Bong Joon-ho]  \n",
       "2       [Daniel Kwan, Daniel Scheinert]  \n",
       "3                       [David Fincher]  \n",
       "4                   [Christopher Nolan]  \n",
       "...                                 ...  \n",
       "153113           [Trinadha Rao Nakkina]  \n",
       "153293                  [Tina Pakravan]  \n",
       "154615                    [M. Muthaiah]  \n",
       "156022                  [Clas Lindberg]  \n",
       "158773              [Fredrik Lindström]  \n",
       "\n",
       "[68318 rows x 8 columns]"
      ]
     },
     "execution_count": 15,
     "metadata": {},
     "output_type": "execute_result"
    }
   ],
   "source": [
    "# Eliminate any datas containing 'NaN'\n",
    "df_cleaned = filtered_df.dropna()\n",
    "df_cleaned"
   ]
  },
  {
   "cell_type": "markdown",
   "metadata": {
    "id": "uYVR91z3OqMm"
   },
   "source": [
    "### English Only Movies"
   ]
  },
  {
   "cell_type": "code",
   "execution_count": 16,
   "metadata": {
    "colab": {
     "base_uri": "https://localhost:8080/",
     "height": 490
    },
    "id": "fd547eb1",
    "outputId": "3a2fe53e-b694-41b8-acb6-d81836ea49a5"
   },
   "outputs": [
    {
     "data": {
      "text/html": [
       "<div>\n",
       "<style scoped>\n",
       "    .dataframe tbody tr th:only-of-type {\n",
       "        vertical-align: middle;\n",
       "    }\n",
       "\n",
       "    .dataframe tbody tr th {\n",
       "        vertical-align: top;\n",
       "    }\n",
       "\n",
       "    .dataframe thead th {\n",
       "        text-align: right;\n",
       "    }\n",
       "</style>\n",
       "<table border=\"1\" class=\"dataframe\">\n",
       "  <thead>\n",
       "    <tr style=\"text-align: right;\">\n",
       "      <th></th>\n",
       "      <th>id</th>\n",
       "      <th>movie</th>\n",
       "      <th>date</th>\n",
       "      <th>rating</th>\n",
       "      <th>actors</th>\n",
       "      <th>genre</th>\n",
       "      <th>language</th>\n",
       "      <th>director</th>\n",
       "    </tr>\n",
       "  </thead>\n",
       "  <tbody>\n",
       "    <tr>\n",
       "      <th>0</th>\n",
       "      <td>1000001</td>\n",
       "      <td>Barbie</td>\n",
       "      <td>2023.0</td>\n",
       "      <td>3.91</td>\n",
       "      <td>[Margot Robbie, Lewis Easter, Onyemachi Ejimof...</td>\n",
       "      <td>[Comedy, Fantasy, Adventure]</td>\n",
       "      <td>English</td>\n",
       "      <td>[Greta Gerwig]</td>\n",
       "    </tr>\n",
       "    <tr>\n",
       "      <th>2</th>\n",
       "      <td>1000003</td>\n",
       "      <td>Everything Everywhere All at Once</td>\n",
       "      <td>2022.0</td>\n",
       "      <td>4.32</td>\n",
       "      <td>[Randall Archer, Boon Pin Koh, Efka Kvaracieju...</td>\n",
       "      <td>[Science Fiction, Action, Adventure]</td>\n",
       "      <td>English</td>\n",
       "      <td>[Daniel Kwan, Daniel Scheinert]</td>\n",
       "    </tr>\n",
       "    <tr>\n",
       "      <th>3</th>\n",
       "      <td>1000004</td>\n",
       "      <td>Fight Club</td>\n",
       "      <td>1999.0</td>\n",
       "      <td>4.27</td>\n",
       "      <td>[Leonard Termo, Greg Bronson, Michael Arturo, ...</td>\n",
       "      <td>[Drama]</td>\n",
       "      <td>English</td>\n",
       "      <td>[David Fincher]</td>\n",
       "    </tr>\n",
       "    <tr>\n",
       "      <th>4</th>\n",
       "      <td>1000005</td>\n",
       "      <td>Interstellar</td>\n",
       "      <td>2014.0</td>\n",
       "      <td>4.32</td>\n",
       "      <td>[Lena Georgas, Jeff Hephner, Elyes Gabel, Broo...</td>\n",
       "      <td>[Science Fiction, Drama, Adventure]</td>\n",
       "      <td>English</td>\n",
       "      <td>[Christopher Nolan]</td>\n",
       "    </tr>\n",
       "    <tr>\n",
       "      <th>5</th>\n",
       "      <td>1000006</td>\n",
       "      <td>Joker</td>\n",
       "      <td>2019.0</td>\n",
       "      <td>3.83</td>\n",
       "      <td>[Danny Schoch, Graham Mabry, Steven Elson, Rog...</td>\n",
       "      <td>[Thriller, Drama, Crime]</td>\n",
       "      <td>English</td>\n",
       "      <td>[Todd Phillips]</td>\n",
       "    </tr>\n",
       "  </tbody>\n",
       "</table>\n",
       "</div>"
      ],
      "text/plain": [
       "        id                              movie    date  rating  \\\n",
       "0  1000001                             Barbie  2023.0    3.91   \n",
       "2  1000003  Everything Everywhere All at Once  2022.0    4.32   \n",
       "3  1000004                         Fight Club  1999.0    4.27   \n",
       "4  1000005                       Interstellar  2014.0    4.32   \n",
       "5  1000006                              Joker  2019.0    3.83   \n",
       "\n",
       "                                              actors  \\\n",
       "0  [Margot Robbie, Lewis Easter, Onyemachi Ejimof...   \n",
       "2  [Randall Archer, Boon Pin Koh, Efka Kvaracieju...   \n",
       "3  [Leonard Termo, Greg Bronson, Michael Arturo, ...   \n",
       "4  [Lena Georgas, Jeff Hephner, Elyes Gabel, Broo...   \n",
       "5  [Danny Schoch, Graham Mabry, Steven Elson, Rog...   \n",
       "\n",
       "                                  genre language  \\\n",
       "0          [Comedy, Fantasy, Adventure]  English   \n",
       "2  [Science Fiction, Action, Adventure]  English   \n",
       "3                               [Drama]  English   \n",
       "4   [Science Fiction, Drama, Adventure]  English   \n",
       "5              [Thriller, Drama, Crime]  English   \n",
       "\n",
       "                          director  \n",
       "0                   [Greta Gerwig]  \n",
       "2  [Daniel Kwan, Daniel Scheinert]  \n",
       "3                  [David Fincher]  \n",
       "4              [Christopher Nolan]  \n",
       "5                  [Todd Phillips]  "
      ]
     },
     "execution_count": 16,
     "metadata": {},
     "output_type": "execute_result"
    }
   ],
   "source": [
    "# Retain the movies for which English is the primary language\n",
    "filtered_df = df_cleaned[df_cleaned['language'].apply(lambda x: 'English' in x)]\n",
    "filtered_df.to_csv('filtered_2.csv', index=False)\n",
    "filtered_df.head()"
   ]
  },
  {
   "cell_type": "markdown",
   "metadata": {
    "id": "B9htNGE-ZGjm"
   },
   "source": [
    "### Final Dataset\n",
    "\n",
    "Now we have merged our loose datasets and dropped the null values, here's what the final dataset look like"
   ]
  },
  {
   "cell_type": "code",
   "execution_count": 17,
   "metadata": {
    "colab": {
     "base_uri": "https://localhost:8080/",
     "height": 345
    },
    "id": "knhK2QgYU59V",
    "outputId": "50e75510-eaf3-4aff-b1c9-b9985fb45cec"
   },
   "outputs": [
    {
     "data": {
      "text/html": [
       "<div>\n",
       "<style scoped>\n",
       "    .dataframe tbody tr th:only-of-type {\n",
       "        vertical-align: middle;\n",
       "    }\n",
       "\n",
       "    .dataframe tbody tr th {\n",
       "        vertical-align: top;\n",
       "    }\n",
       "\n",
       "    .dataframe thead th {\n",
       "        text-align: right;\n",
       "    }\n",
       "</style>\n",
       "<table border=\"1\" class=\"dataframe\">\n",
       "  <thead>\n",
       "    <tr style=\"text-align: right;\">\n",
       "      <th></th>\n",
       "      <th>id</th>\n",
       "      <th>movie</th>\n",
       "      <th>date</th>\n",
       "      <th>rating</th>\n",
       "      <th>actors</th>\n",
       "      <th>genre</th>\n",
       "      <th>language</th>\n",
       "      <th>director</th>\n",
       "    </tr>\n",
       "  </thead>\n",
       "  <tbody>\n",
       "    <tr>\n",
       "      <th>0</th>\n",
       "      <td>1000001</td>\n",
       "      <td>Barbie</td>\n",
       "      <td>2023.0</td>\n",
       "      <td>3.91</td>\n",
       "      <td>['Margot Robbie', 'Lewis Easter', 'Onyemachi E...</td>\n",
       "      <td>['Comedy', 'Fantasy', 'Adventure']</td>\n",
       "      <td>English</td>\n",
       "      <td>['Greta Gerwig']</td>\n",
       "    </tr>\n",
       "    <tr>\n",
       "      <th>1</th>\n",
       "      <td>1000003</td>\n",
       "      <td>Everything Everywhere All at Once</td>\n",
       "      <td>2022.0</td>\n",
       "      <td>4.32</td>\n",
       "      <td>['Randall Archer', 'Boon Pin Koh', 'Efka Kvara...</td>\n",
       "      <td>['Science Fiction', 'Action', 'Adventure']</td>\n",
       "      <td>English</td>\n",
       "      <td>['Daniel Kwan', 'Daniel Scheinert']</td>\n",
       "    </tr>\n",
       "    <tr>\n",
       "      <th>2</th>\n",
       "      <td>1000004</td>\n",
       "      <td>Fight Club</td>\n",
       "      <td>1999.0</td>\n",
       "      <td>4.27</td>\n",
       "      <td>['Leonard Termo', 'Greg Bronson', 'Michael Art...</td>\n",
       "      <td>['Drama']</td>\n",
       "      <td>English</td>\n",
       "      <td>['David Fincher']</td>\n",
       "    </tr>\n",
       "    <tr>\n",
       "      <th>3</th>\n",
       "      <td>1000005</td>\n",
       "      <td>Interstellar</td>\n",
       "      <td>2014.0</td>\n",
       "      <td>4.32</td>\n",
       "      <td>['Lena Georgas', 'Jeff Hephner', 'Elyes Gabel'...</td>\n",
       "      <td>['Science Fiction', 'Drama', 'Adventure']</td>\n",
       "      <td>English</td>\n",
       "      <td>['Christopher Nolan']</td>\n",
       "    </tr>\n",
       "    <tr>\n",
       "      <th>4</th>\n",
       "      <td>1000006</td>\n",
       "      <td>Joker</td>\n",
       "      <td>2019.0</td>\n",
       "      <td>3.83</td>\n",
       "      <td>['Danny Schoch', 'Graham Mabry', 'Steven Elson...</td>\n",
       "      <td>['Thriller', 'Drama', 'Crime']</td>\n",
       "      <td>English</td>\n",
       "      <td>['Todd Phillips']</td>\n",
       "    </tr>\n",
       "    <tr>\n",
       "      <th>...</th>\n",
       "      <td>...</td>\n",
       "      <td>...</td>\n",
       "      <td>...</td>\n",
       "      <td>...</td>\n",
       "      <td>...</td>\n",
       "      <td>...</td>\n",
       "      <td>...</td>\n",
       "      <td>...</td>\n",
       "    </tr>\n",
       "    <tr>\n",
       "      <th>36359</th>\n",
       "      <td>1126883</td>\n",
       "      <td>Bangaram</td>\n",
       "      <td>2006.0</td>\n",
       "      <td>2.97</td>\n",
       "      <td>['Ashutosh Rana', 'Trisha Krishnan', 'L. B. Sr...</td>\n",
       "      <td>['Drama', 'Action']</td>\n",
       "      <td>English</td>\n",
       "      <td>['Dharani']</td>\n",
       "    </tr>\n",
       "    <tr>\n",
       "      <th>36360</th>\n",
       "      <td>1127955</td>\n",
       "      <td>Emu War - OverSimplified</td>\n",
       "      <td>2018.0</td>\n",
       "      <td>3.53</td>\n",
       "      <td>['Stuart Webster']</td>\n",
       "      <td>['Documentary', 'History']</td>\n",
       "      <td>English</td>\n",
       "      <td>['Stuart Webster']</td>\n",
       "    </tr>\n",
       "    <tr>\n",
       "      <th>36361</th>\n",
       "      <td>1127969</td>\n",
       "      <td>Lee Evans: Wired and Wonderful</td>\n",
       "      <td>2002.0</td>\n",
       "      <td>3.56</td>\n",
       "      <td>['Lee Evans']</td>\n",
       "      <td>['Comedy']</td>\n",
       "      <td>English</td>\n",
       "      <td>['Tom Poole']</td>\n",
       "    </tr>\n",
       "    <tr>\n",
       "      <th>36362</th>\n",
       "      <td>1128916</td>\n",
       "      <td>The Return of 'Allo 'Allo!</td>\n",
       "      <td>2007.0</td>\n",
       "      <td>3.62</td>\n",
       "      <td>['Gorden Kaye', 'Vicki Michelle', 'Arthur Bost...</td>\n",
       "      <td>['Documentary']</td>\n",
       "      <td>English</td>\n",
       "      <td>['Dennis Martin']</td>\n",
       "    </tr>\n",
       "    <tr>\n",
       "      <th>36363</th>\n",
       "      <td>1144327</td>\n",
       "      <td>Gunnar Rehlin - A Small Film About Hurting Som...</td>\n",
       "      <td>1999.0</td>\n",
       "      <td>3.51</td>\n",
       "      <td>['Tommy Bergqvist', 'Monte Reid', 'Martin Luuk...</td>\n",
       "      <td>['Comedy', 'TV Movie']</td>\n",
       "      <td>English</td>\n",
       "      <td>['Tomas Alfredson']</td>\n",
       "    </tr>\n",
       "  </tbody>\n",
       "</table>\n",
       "<p>36364 rows × 8 columns</p>\n",
       "</div>"
      ],
      "text/plain": [
       "            id                                              movie    date  \\\n",
       "0      1000001                                             Barbie  2023.0   \n",
       "1      1000003                  Everything Everywhere All at Once  2022.0   \n",
       "2      1000004                                         Fight Club  1999.0   \n",
       "3      1000005                                       Interstellar  2014.0   \n",
       "4      1000006                                              Joker  2019.0   \n",
       "...        ...                                                ...     ...   \n",
       "36359  1126883                                           Bangaram  2006.0   \n",
       "36360  1127955                           Emu War - OverSimplified  2018.0   \n",
       "36361  1127969                     Lee Evans: Wired and Wonderful  2002.0   \n",
       "36362  1128916                         The Return of 'Allo 'Allo!  2007.0   \n",
       "36363  1144327  Gunnar Rehlin - A Small Film About Hurting Som...  1999.0   \n",
       "\n",
       "       rating                                             actors  \\\n",
       "0        3.91  ['Margot Robbie', 'Lewis Easter', 'Onyemachi E...   \n",
       "1        4.32  ['Randall Archer', 'Boon Pin Koh', 'Efka Kvara...   \n",
       "2        4.27  ['Leonard Termo', 'Greg Bronson', 'Michael Art...   \n",
       "3        4.32  ['Lena Georgas', 'Jeff Hephner', 'Elyes Gabel'...   \n",
       "4        3.83  ['Danny Schoch', 'Graham Mabry', 'Steven Elson...   \n",
       "...       ...                                                ...   \n",
       "36359    2.97  ['Ashutosh Rana', 'Trisha Krishnan', 'L. B. Sr...   \n",
       "36360    3.53                                 ['Stuart Webster']   \n",
       "36361    3.56                                      ['Lee Evans']   \n",
       "36362    3.62  ['Gorden Kaye', 'Vicki Michelle', 'Arthur Bost...   \n",
       "36363    3.51  ['Tommy Bergqvist', 'Monte Reid', 'Martin Luuk...   \n",
       "\n",
       "                                            genre language  \\\n",
       "0              ['Comedy', 'Fantasy', 'Adventure']  English   \n",
       "1      ['Science Fiction', 'Action', 'Adventure']  English   \n",
       "2                                       ['Drama']  English   \n",
       "3       ['Science Fiction', 'Drama', 'Adventure']  English   \n",
       "4                  ['Thriller', 'Drama', 'Crime']  English   \n",
       "...                                           ...      ...   \n",
       "36359                         ['Drama', 'Action']  English   \n",
       "36360                  ['Documentary', 'History']  English   \n",
       "36361                                  ['Comedy']  English   \n",
       "36362                             ['Documentary']  English   \n",
       "36363                      ['Comedy', 'TV Movie']  English   \n",
       "\n",
       "                                  director  \n",
       "0                         ['Greta Gerwig']  \n",
       "1      ['Daniel Kwan', 'Daniel Scheinert']  \n",
       "2                        ['David Fincher']  \n",
       "3                    ['Christopher Nolan']  \n",
       "4                        ['Todd Phillips']  \n",
       "...                                    ...  \n",
       "36359                          ['Dharani']  \n",
       "36360                   ['Stuart Webster']  \n",
       "36361                        ['Tom Poole']  \n",
       "36362                    ['Dennis Martin']  \n",
       "36363                  ['Tomas Alfredson']  \n",
       "\n",
       "[36364 rows x 8 columns]"
      ]
     },
     "execution_count": 17,
     "metadata": {},
     "output_type": "execute_result"
    }
   ],
   "source": [
    "df = pd.read_csv('filtered_2.csv')\n",
    "df"
   ]
  },
  {
   "cell_type": "code",
   "execution_count": 18,
   "metadata": {
    "colab": {
     "base_uri": "https://localhost:8080/"
    },
    "id": "d8yE_F2X-sRP",
    "outputId": "fdbceb43-c0c5-4567-86aa-734721d1514c"
   },
   "outputs": [
    {
     "name": "stdout",
     "output_type": "stream",
     "text": [
      "36364\n"
     ]
    }
   ],
   "source": [
    "# Remove columns so we only have movie name, rating, name of actors\n",
    "columns_to_keep = ['movie', 'rating', 'actors']\n",
    "\n",
    "# Drop columns that are not in the 'columns_to_keep' list\n",
    "df = df[columns_to_keep]\n",
    "\n",
    "# Display the first few rows of the modified DataFrame\n",
    "df.head()\n",
    "print(len(df))"
   ]
  },
  {
   "cell_type": "markdown",
   "metadata": {
    "id": "4On_9UEB_K9N"
   },
   "source": [
    "There's duplicate entries looking at row 2 and 3 of the previous table, let's dedupe"
   ]
  },
  {
   "cell_type": "code",
   "execution_count": 19,
   "metadata": {
    "colab": {
     "base_uri": "https://localhost:8080/",
     "height": 206
    },
    "id": "lPL-8CL__m4y",
    "outputId": "565f7d2b-d221-41b7-db0b-38e30b6a2f20"
   },
   "outputs": [
    {
     "data": {
      "text/html": [
       "<div>\n",
       "<style scoped>\n",
       "    .dataframe tbody tr th:only-of-type {\n",
       "        vertical-align: middle;\n",
       "    }\n",
       "\n",
       "    .dataframe tbody tr th {\n",
       "        vertical-align: top;\n",
       "    }\n",
       "\n",
       "    .dataframe thead th {\n",
       "        text-align: right;\n",
       "    }\n",
       "</style>\n",
       "<table border=\"1\" class=\"dataframe\">\n",
       "  <thead>\n",
       "    <tr style=\"text-align: right;\">\n",
       "      <th></th>\n",
       "      <th>movie</th>\n",
       "      <th>rating</th>\n",
       "      <th>actors</th>\n",
       "    </tr>\n",
       "  </thead>\n",
       "  <tbody>\n",
       "    <tr>\n",
       "      <th>0</th>\n",
       "      <td>Barbie</td>\n",
       "      <td>3.91</td>\n",
       "      <td>['Margot Robbie', 'Lewis Easter', 'Onyemachi E...</td>\n",
       "    </tr>\n",
       "    <tr>\n",
       "      <th>1</th>\n",
       "      <td>Everything Everywhere All at Once</td>\n",
       "      <td>4.32</td>\n",
       "      <td>['Randall Archer', 'Boon Pin Koh', 'Efka Kvara...</td>\n",
       "    </tr>\n",
       "    <tr>\n",
       "      <th>2</th>\n",
       "      <td>Fight Club</td>\n",
       "      <td>4.27</td>\n",
       "      <td>['Leonard Termo', 'Greg Bronson', 'Michael Art...</td>\n",
       "    </tr>\n",
       "    <tr>\n",
       "      <th>3</th>\n",
       "      <td>Interstellar</td>\n",
       "      <td>4.32</td>\n",
       "      <td>['Lena Georgas', 'Jeff Hephner', 'Elyes Gabel'...</td>\n",
       "    </tr>\n",
       "    <tr>\n",
       "      <th>4</th>\n",
       "      <td>Joker</td>\n",
       "      <td>3.83</td>\n",
       "      <td>['Danny Schoch', 'Graham Mabry', 'Steven Elson...</td>\n",
       "    </tr>\n",
       "  </tbody>\n",
       "</table>\n",
       "</div>"
      ],
      "text/plain": [
       "                               movie  rating  \\\n",
       "0                             Barbie    3.91   \n",
       "1  Everything Everywhere All at Once    4.32   \n",
       "2                         Fight Club    4.27   \n",
       "3                       Interstellar    4.32   \n",
       "4                              Joker    3.83   \n",
       "\n",
       "                                              actors  \n",
       "0  ['Margot Robbie', 'Lewis Easter', 'Onyemachi E...  \n",
       "1  ['Randall Archer', 'Boon Pin Koh', 'Efka Kvara...  \n",
       "2  ['Leonard Termo', 'Greg Bronson', 'Michael Art...  \n",
       "3  ['Lena Georgas', 'Jeff Hephner', 'Elyes Gabel'...  \n",
       "4  ['Danny Schoch', 'Graham Mabry', 'Steven Elson...  "
      ]
     },
     "execution_count": 19,
     "metadata": {},
     "output_type": "execute_result"
    }
   ],
   "source": [
    "df = df.drop_duplicates(subset='movie', keep='first')\n",
    "\n",
    "# Display the first few rows of the DataFrame after removing duplicates\n",
    "df.head()"
   ]
  },
  {
   "cell_type": "markdown",
   "metadata": {
    "id": "rSyUQTl3gjbZ"
   },
   "source": [
    "That looks better and can be used for analysis!"
   ]
  },
  {
   "cell_type": "markdown",
   "metadata": {
    "id": "KWhAexdAgW3v"
   },
   "source": [
    "# **EDA part 2: Data Exploring and visualization**"
   ]
  },
  {
   "cell_type": "markdown",
   "metadata": {
    "id": "SQ-LNlX5_9O3"
   },
   "source": [
    "Now let's create a new table with two columns, actor name and the average rating of all the movies they were in\n",
    "\n",
    "First let's have a dictionary actor_ratings which stores rating info for each actor"
   ]
  },
  {
   "cell_type": "code",
   "execution_count": 20,
   "metadata": {
    "id": "tu0FssTjANiG"
   },
   "outputs": [],
   "source": [
    "from ast import literal_eval\n",
    "# Create an empty dictionary to store the sum and count of ratings for each actor\n",
    "actor_ratings = {}\n",
    "\n",
    "# Iterate through each row of the DataFrame\n",
    "for index, row in df.iterrows():\n",
    "  # Extract the list of actors from the 'actors' column\n",
    "  actors_list_str = row['actors']\n",
    "  actors_list_arr = literal_eval(actors_list_str)\n",
    "  row['actors'] = actors_list_arr\n",
    "  # Extract the rating for the movie\n",
    "  rating = row['rating']\n",
    "\n",
    "  # Check if the 'actors' column is a list\n",
    "  if isinstance(actors_list_arr, list):\n",
    "      # Iterate through each actor in the list\n",
    "    for actor in actors_list_arr:\n",
    "      # If the actor is not in the dictionary, add a new entry\n",
    "      if actor not in actor_ratings:\n",
    "          actor_ratings[actor] = {'sum': rating, 'count': 1}\n",
    "      else:\n",
    "          # If the actor is already in the dictionary, update the sum and count\n",
    "          actor_ratings[actor]['sum'] += rating\n",
    "          actor_ratings[actor]['count'] += 1"
   ]
  },
  {
   "cell_type": "markdown",
   "metadata": {
    "id": "yFIk0bVjDGsB"
   },
   "source": [
    "Then let's convert it into a table"
   ]
  },
  {
   "cell_type": "code",
   "execution_count": 21,
   "metadata": {
    "id": "SWNOHNejDI0h"
   },
   "outputs": [
    {
     "data": {
      "text/html": [
       "<div>\n",
       "<style scoped>\n",
       "    .dataframe tbody tr th:only-of-type {\n",
       "        vertical-align: middle;\n",
       "    }\n",
       "\n",
       "    .dataframe tbody tr th {\n",
       "        vertical-align: top;\n",
       "    }\n",
       "\n",
       "    .dataframe thead th {\n",
       "        text-align: right;\n",
       "    }\n",
       "</style>\n",
       "<table border=\"1\" class=\"dataframe\">\n",
       "  <thead>\n",
       "    <tr style=\"text-align: right;\">\n",
       "      <th></th>\n",
       "      <th>actor_name</th>\n",
       "      <th>average_rating</th>\n",
       "      <th>movie_count</th>\n",
       "    </tr>\n",
       "  </thead>\n",
       "  <tbody>\n",
       "    <tr>\n",
       "      <th>0</th>\n",
       "      <td>Margot Robbie</td>\n",
       "      <td>3.15</td>\n",
       "      <td>28</td>\n",
       "    </tr>\n",
       "    <tr>\n",
       "      <th>88</th>\n",
       "      <td>John Cena</td>\n",
       "      <td>2.75</td>\n",
       "      <td>40</td>\n",
       "    </tr>\n",
       "    <tr>\n",
       "      <th>100</th>\n",
       "      <td>Rob Brydon</td>\n",
       "      <td>3.31</td>\n",
       "      <td>37</td>\n",
       "    </tr>\n",
       "    <tr>\n",
       "      <th>108</th>\n",
       "      <td>Ryan Gosling</td>\n",
       "      <td>3.47</td>\n",
       "      <td>34</td>\n",
       "    </tr>\n",
       "    <tr>\n",
       "      <th>109</th>\n",
       "      <td>America Ferrera</td>\n",
       "      <td>3.37</td>\n",
       "      <td>25</td>\n",
       "    </tr>\n",
       "  </tbody>\n",
       "</table>\n",
       "</div>"
      ],
      "text/plain": [
       "          actor_name  average_rating  movie_count\n",
       "0      Margot Robbie            3.15           28\n",
       "88         John Cena            2.75           40\n",
       "100       Rob Brydon            3.31           37\n",
       "108     Ryan Gosling            3.47           34\n",
       "109  America Ferrera            3.37           25"
      ]
     },
     "execution_count": 21,
     "metadata": {},
     "output_type": "execute_result"
    }
   ],
   "source": [
    "# Create a list of dictionaries for actor names and their average ratings\n",
    "data_list = [{'actor_name': actor, 'average_rating': round(data['sum'] / data['count'], 2), 'movie_count': data['count']} for actor, data in actor_ratings.items()]\n",
    "\n",
    "# Create a new DataFrame using pandas.concat\n",
    "average_ratings_df = pd.concat([pd.DataFrame(data_list)])\n",
    "\n",
    "# Drop duplicate rows\n",
    "average_ratings_df = average_ratings_df.drop_duplicates()\n",
    "\n",
    "# Filter actors with more than 10 movies\n",
    "average_ratings_df_filtered = average_ratings_df[average_ratings_df['movie_count'] > 20]\n",
    "\n",
    "# Display the new table with actor names and their average ratings\n",
    "average_ratings_df_filtered.head()"
   ]
  },
  {
   "cell_type": "markdown",
   "metadata": {
    "id": "bL1ROhNWO3Iq"
   },
   "source": [
    "Top 10 actors/actresses are below"
   ]
  },
  {
   "cell_type": "code",
   "execution_count": 22,
   "metadata": {
    "id": "sXZjDxhBO5NS"
   },
   "outputs": [
    {
     "name": "stdout",
     "output_type": "stream",
     "text": [
      "Top 10 actors with the highest ratings:\n"
     ]
    },
    {
     "data": {
      "text/html": [
       "<div>\n",
       "<style scoped>\n",
       "    .dataframe tbody tr th:only-of-type {\n",
       "        vertical-align: middle;\n",
       "    }\n",
       "\n",
       "    .dataframe tbody tr th {\n",
       "        vertical-align: top;\n",
       "    }\n",
       "\n",
       "    .dataframe thead th {\n",
       "        text-align: right;\n",
       "    }\n",
       "</style>\n",
       "<table border=\"1\" class=\"dataframe\">\n",
       "  <thead>\n",
       "    <tr style=\"text-align: right;\">\n",
       "      <th></th>\n",
       "      <th>actor_name</th>\n",
       "      <th>average_rating</th>\n",
       "      <th>movie_count</th>\n",
       "    </tr>\n",
       "  </thead>\n",
       "  <tbody>\n",
       "    <tr>\n",
       "      <th>95359</th>\n",
       "      <td>David Attenborough</td>\n",
       "      <td>3.94</td>\n",
       "      <td>38</td>\n",
       "    </tr>\n",
       "    <tr>\n",
       "      <th>82193</th>\n",
       "      <td>Jay-Z</td>\n",
       "      <td>3.75</td>\n",
       "      <td>26</td>\n",
       "    </tr>\n",
       "    <tr>\n",
       "      <th>8577</th>\n",
       "      <td>Roger Taylor</td>\n",
       "      <td>3.73</td>\n",
       "      <td>22</td>\n",
       "    </tr>\n",
       "    <tr>\n",
       "      <th>47967</th>\n",
       "      <td>Dave Grohl</td>\n",
       "      <td>3.71</td>\n",
       "      <td>34</td>\n",
       "    </tr>\n",
       "    <tr>\n",
       "      <th>75971</th>\n",
       "      <td>Jonas Mekas</td>\n",
       "      <td>3.70</td>\n",
       "      <td>24</td>\n",
       "    </tr>\n",
       "    <tr>\n",
       "      <th>46069</th>\n",
       "      <td>Martin Luther King Jr.</td>\n",
       "      <td>3.69</td>\n",
       "      <td>44</td>\n",
       "    </tr>\n",
       "    <tr>\n",
       "      <th>22724</th>\n",
       "      <td>Spike Lee</td>\n",
       "      <td>3.67</td>\n",
       "      <td>30</td>\n",
       "    </tr>\n",
       "    <tr>\n",
       "      <th>10780</th>\n",
       "      <td>Gregg Turkington</td>\n",
       "      <td>3.67</td>\n",
       "      <td>27</td>\n",
       "    </tr>\n",
       "    <tr>\n",
       "      <th>13224</th>\n",
       "      <td>Yoko Ono</td>\n",
       "      <td>3.66</td>\n",
       "      <td>32</td>\n",
       "    </tr>\n",
       "    <tr>\n",
       "      <th>43054</th>\n",
       "      <td>Bruce Springsteen</td>\n",
       "      <td>3.66</td>\n",
       "      <td>28</td>\n",
       "    </tr>\n",
       "  </tbody>\n",
       "</table>\n",
       "</div>"
      ],
      "text/plain": [
       "                   actor_name  average_rating  movie_count\n",
       "95359      David Attenborough            3.94           38\n",
       "82193                   Jay-Z            3.75           26\n",
       "8577             Roger Taylor            3.73           22\n",
       "47967              Dave Grohl            3.71           34\n",
       "75971             Jonas Mekas            3.70           24\n",
       "46069  Martin Luther King Jr.            3.69           44\n",
       "22724               Spike Lee            3.67           30\n",
       "10780        Gregg Turkington            3.67           27\n",
       "13224                Yoko Ono            3.66           32\n",
       "43054       Bruce Springsteen            3.66           28"
      ]
     },
     "execution_count": 22,
     "metadata": {},
     "output_type": "execute_result"
    }
   ],
   "source": [
    "# Sort the DataFrame by 'average_rating' in descending order and get the top 10\n",
    "top_10_high_ratings = average_ratings_df_filtered.sort_values(by='average_rating', ascending=False).head(10)\n",
    "\n",
    "# Display the top 10 actors with the highest ratings\n",
    "print(\"Top 10 actors with the highest ratings:\")\n",
    "top_10_high_ratings"
   ]
  },
  {
   "cell_type": "markdown",
   "metadata": {
    "id": "GoO1W-kqgrPO"
   },
   "source": [
    "Here's Ryan Gosling's number"
   ]
  },
  {
   "cell_type": "code",
   "execution_count": 23,
   "metadata": {
    "id": "OfOFsPhcgqgD"
   },
   "outputs": [
    {
     "data": {
      "text/html": [
       "<div>\n",
       "<style scoped>\n",
       "    .dataframe tbody tr th:only-of-type {\n",
       "        vertical-align: middle;\n",
       "    }\n",
       "\n",
       "    .dataframe tbody tr th {\n",
       "        vertical-align: top;\n",
       "    }\n",
       "\n",
       "    .dataframe thead th {\n",
       "        text-align: right;\n",
       "    }\n",
       "</style>\n",
       "<table border=\"1\" class=\"dataframe\">\n",
       "  <thead>\n",
       "    <tr style=\"text-align: right;\">\n",
       "      <th></th>\n",
       "      <th>actor_name</th>\n",
       "      <th>average_rating</th>\n",
       "      <th>movie_count</th>\n",
       "    </tr>\n",
       "  </thead>\n",
       "  <tbody>\n",
       "    <tr>\n",
       "      <th>108</th>\n",
       "      <td>Ryan Gosling</td>\n",
       "      <td>3.47</td>\n",
       "      <td>34</td>\n",
       "    </tr>\n",
       "  </tbody>\n",
       "</table>\n",
       "</div>"
      ],
      "text/plain": [
       "       actor_name  average_rating  movie_count\n",
       "108  Ryan Gosling            3.47           34"
      ]
     },
     "execution_count": 23,
     "metadata": {},
     "output_type": "execute_result"
    }
   ],
   "source": [
    "average_ratings_df_filtered[average_ratings_df_filtered['actor_name'] == 'Ryan Gosling']"
   ]
  },
  {
   "cell_type": "markdown",
   "metadata": {
    "id": "D8b64Y8nQo1u"
   },
   "source": [
    "Bottom 10 actors"
   ]
  },
  {
   "cell_type": "code",
   "execution_count": 24,
   "metadata": {
    "id": "ovObkWGYQq9g"
   },
   "outputs": [
    {
     "name": "stdout",
     "output_type": "stream",
     "text": [
      "Top 10 actors with the lowest ratings:\n"
     ]
    },
    {
     "data": {
      "text/html": [
       "<div>\n",
       "<style scoped>\n",
       "    .dataframe tbody tr th:only-of-type {\n",
       "        vertical-align: middle;\n",
       "    }\n",
       "\n",
       "    .dataframe tbody tr th {\n",
       "        vertical-align: top;\n",
       "    }\n",
       "\n",
       "    .dataframe thead th {\n",
       "        text-align: right;\n",
       "    }\n",
       "</style>\n",
       "<table border=\"1\" class=\"dataframe\">\n",
       "  <thead>\n",
       "    <tr style=\"text-align: right;\">\n",
       "      <th></th>\n",
       "      <th>actor_name</th>\n",
       "      <th>average_rating</th>\n",
       "      <th>movie_count</th>\n",
       "    </tr>\n",
       "  </thead>\n",
       "  <tbody>\n",
       "    <tr>\n",
       "      <th>30490</th>\n",
       "      <td>Jackie Sandler</td>\n",
       "      <td>2.43</td>\n",
       "      <td>33</td>\n",
       "    </tr>\n",
       "    <tr>\n",
       "      <th>42366</th>\n",
       "      <td>Bella Thorne</td>\n",
       "      <td>2.44</td>\n",
       "      <td>28</td>\n",
       "    </tr>\n",
       "    <tr>\n",
       "      <th>39223</th>\n",
       "      <td>Natassia Malthe</td>\n",
       "      <td>2.46</td>\n",
       "      <td>28</td>\n",
       "    </tr>\n",
       "    <tr>\n",
       "      <th>34105</th>\n",
       "      <td>Sadie Sandler</td>\n",
       "      <td>2.47</td>\n",
       "      <td>21</td>\n",
       "    </tr>\n",
       "    <tr>\n",
       "      <th>81277</th>\n",
       "      <td>Steven Seagal</td>\n",
       "      <td>2.48</td>\n",
       "      <td>49</td>\n",
       "    </tr>\n",
       "    <tr>\n",
       "      <th>83129</th>\n",
       "      <td>Diana Terranova</td>\n",
       "      <td>2.50</td>\n",
       "      <td>22</td>\n",
       "    </tr>\n",
       "    <tr>\n",
       "      <th>56894</th>\n",
       "      <td>Ryan Hansen</td>\n",
       "      <td>2.50</td>\n",
       "      <td>22</td>\n",
       "    </tr>\n",
       "    <tr>\n",
       "      <th>34100</th>\n",
       "      <td>Sunny Sandler</td>\n",
       "      <td>2.50</td>\n",
       "      <td>22</td>\n",
       "    </tr>\n",
       "    <tr>\n",
       "      <th>60107</th>\n",
       "      <td>Arielle Kebbel</td>\n",
       "      <td>2.51</td>\n",
       "      <td>25</td>\n",
       "    </tr>\n",
       "    <tr>\n",
       "      <th>6254</th>\n",
       "      <td>Chris Coppola</td>\n",
       "      <td>2.51</td>\n",
       "      <td>21</td>\n",
       "    </tr>\n",
       "  </tbody>\n",
       "</table>\n",
       "</div>"
      ],
      "text/plain": [
       "            actor_name  average_rating  movie_count\n",
       "30490   Jackie Sandler            2.43           33\n",
       "42366     Bella Thorne            2.44           28\n",
       "39223  Natassia Malthe            2.46           28\n",
       "34105    Sadie Sandler            2.47           21\n",
       "81277    Steven Seagal            2.48           49\n",
       "83129  Diana Terranova            2.50           22\n",
       "56894      Ryan Hansen            2.50           22\n",
       "34100    Sunny Sandler            2.50           22\n",
       "60107   Arielle Kebbel            2.51           25\n",
       "6254     Chris Coppola            2.51           21"
      ]
     },
     "execution_count": 24,
     "metadata": {},
     "output_type": "execute_result"
    }
   ],
   "source": [
    "# Sort the DataFrame by 'average_rating' in ascending order and get the bottom 10\n",
    "top_10_low_ratings = average_ratings_df_filtered.sort_values(by='average_rating', ascending=True).head(10)\n",
    "\n",
    "# Display the top 10 actors with the highest ratings\n",
    "print(\"Top 10 actors with the lowest ratings:\")\n",
    "top_10_low_ratings"
   ]
  },
  {
   "cell_type": "markdown",
   "metadata": {
    "id": "Ef-EnR_5cjtA"
   },
   "source": [
    "Let's see the general trend of movie ratings"
   ]
  },
  {
   "cell_type": "code",
   "execution_count": 25,
   "metadata": {
    "id": "VYFfhZdpb93g"
   },
   "outputs": [
    {
     "data": {
      "text/plain": [
       "Text(0.5, 1.0, 'Ratings vs number of movies')"
      ]
     },
     "execution_count": 25,
     "metadata": {},
     "output_type": "execute_result"
    },
    {
     "data": {
      "image/png": "[encoded data removed]",
      "text/plain": [
       "<Figure size 432x288 with 1 Axes>"
      ]
     },
     "metadata": {},
     "output_type": "display_data"
    }
   ],
   "source": [
    "sns.histplot(x= df['rating'], bins = 10)\n",
    "plt.title('Ratings vs number of movies')"
   ]
  },
  {
   "cell_type": "markdown",
   "metadata": {
    "id": "3sLrbrMJcsq-"
   },
   "source": [
    "We can see that the movies are pretty normally distributed"
   ]
  },
  {
   "cell_type": "markdown",
   "metadata": {
    "id": "baRAa0xrebmz"
   },
   "source": [
    "now let's look at each actor's average movie rating vs their movie counts"
   ]
  },
  {
   "cell_type": "code",
   "execution_count": 26,
   "metadata": {
    "id": "f1PWuGVAKsom"
   },
   "outputs": [
    {
     "data": {
      "text/plain": [
       "<AxesSubplot:xlabel='average_rating', ylabel='movie_count'>"
      ]
     },
     "execution_count": 26,
     "metadata": {},
     "output_type": "execute_result"
    },
    {
     "data": {
      "image/png": "[encoded data removed]",
      "text/plain": [
       "<Figure size 432x288 with 1 Axes>"
      ]
     },
     "metadata": {},
     "output_type": "display_data"
    }
   ],
   "source": [
    "sns.scatterplot(x=average_ratings_df_filtered['average_rating'], y=average_ratings_df_filtered['movie_count'])"
   ]
  },
  {
   "cell_type": "markdown",
   "metadata": {
    "id": "E7Z2O6uBKsom"
   },
   "source": [
    "### How accurate are our predictions if we compare it with the actual rating a movie received\n",
    "\n",
    "\n",
    "we want to come up with rating predictions then compare it with the actual rating to see how accurate we are\n",
    "\n",
    "***We first want to look at the relationships between a movie's rating vs the average ratings of every actor in the movie***"
   ]
  },
  {
   "cell_type": "markdown",
   "metadata": {
    "id": "FamsJpXiBVgp"
   },
   "source": [
    "Add column to original df where we get the average rating of all the actors in that row by using our dictionary to get the average rating of each actor"
   ]
  },
  {
   "cell_type": "code",
   "execution_count": 27,
   "metadata": {
    "id": "KCXGudi2BVTp"
   },
   "outputs": [],
   "source": [
    "for index, row in average_ratings_df_filtered.iterrows():\n",
    "    actor_name = row['actor_name']\n",
    "    if actor_name in actor_ratings:\n",
    "        actor_ratings[actor_name]['average_rating'] = row['average_rating']"
   ]
  },
  {
   "cell_type": "markdown",
   "metadata": {
    "id": "LxqYIm9_EGN3"
   },
   "source": [
    "Now let's create a new column for average rating of actors for a movie"
   ]
  },
  {
   "cell_type": "code",
   "execution_count": 28,
   "metadata": {
    "id": "sZ6qt1BfEJQA"
   },
   "outputs": [
    {
     "data": {
      "text/html": [
       "<div>\n",
       "<style scoped>\n",
       "    .dataframe tbody tr th:only-of-type {\n",
       "        vertical-align: middle;\n",
       "    }\n",
       "\n",
       "    .dataframe tbody tr th {\n",
       "        vertical-align: top;\n",
       "    }\n",
       "\n",
       "    .dataframe thead th {\n",
       "        text-align: right;\n",
       "    }\n",
       "</style>\n",
       "<table border=\"1\" class=\"dataframe\">\n",
       "  <thead>\n",
       "    <tr style=\"text-align: right;\">\n",
       "      <th></th>\n",
       "      <th>movie</th>\n",
       "      <th>rating</th>\n",
       "      <th>actors</th>\n",
       "      <th>avg_rating_of_actors</th>\n",
       "    </tr>\n",
       "  </thead>\n",
       "  <tbody>\n",
       "    <tr>\n",
       "      <th>0</th>\n",
       "      <td>Barbie</td>\n",
       "      <td>3.91</td>\n",
       "      <td>['Margot Robbie', 'Lewis Easter', 'Onyemachi E...</td>\n",
       "      <td>3.14</td>\n",
       "    </tr>\n",
       "    <tr>\n",
       "      <th>1</th>\n",
       "      <td>Everything Everywhere All at Once</td>\n",
       "      <td>4.32</td>\n",
       "      <td>['Randall Archer', 'Boon Pin Koh', 'Efka Kvara...</td>\n",
       "      <td>3.06</td>\n",
       "    </tr>\n",
       "    <tr>\n",
       "      <th>2</th>\n",
       "      <td>Fight Club</td>\n",
       "      <td>4.27</td>\n",
       "      <td>['Leonard Termo', 'Greg Bronson', 'Michael Art...</td>\n",
       "      <td>3.17</td>\n",
       "    </tr>\n",
       "    <tr>\n",
       "      <th>3</th>\n",
       "      <td>Interstellar</td>\n",
       "      <td>4.32</td>\n",
       "      <td>['Lena Georgas', 'Jeff Hephner', 'Elyes Gabel'...</td>\n",
       "      <td>3.23</td>\n",
       "    </tr>\n",
       "    <tr>\n",
       "      <th>4</th>\n",
       "      <td>Joker</td>\n",
       "      <td>3.83</td>\n",
       "      <td>['Danny Schoch', 'Graham Mabry', 'Steven Elson...</td>\n",
       "      <td>3.2</td>\n",
       "    </tr>\n",
       "  </tbody>\n",
       "</table>\n",
       "</div>"
      ],
      "text/plain": [
       "                               movie  rating  \\\n",
       "0                             Barbie    3.91   \n",
       "1  Everything Everywhere All at Once    4.32   \n",
       "2                         Fight Club    4.27   \n",
       "3                       Interstellar    4.32   \n",
       "4                              Joker    3.83   \n",
       "\n",
       "                                              actors avg_rating_of_actors  \n",
       "0  ['Margot Robbie', 'Lewis Easter', 'Onyemachi E...                 3.14  \n",
       "1  ['Randall Archer', 'Boon Pin Koh', 'Efka Kvara...                 3.06  \n",
       "2  ['Leonard Termo', 'Greg Bronson', 'Michael Art...                 3.17  \n",
       "3  ['Lena Georgas', 'Jeff Hephner', 'Elyes Gabel'...                 3.23  \n",
       "4  ['Danny Schoch', 'Graham Mabry', 'Steven Elson...                  3.2  "
      ]
     },
     "execution_count": 28,
     "metadata": {},
     "output_type": "execute_result"
    }
   ],
   "source": [
    "import ast\n",
    "\n",
    "# Function to calculate average rating of a list of actors\n",
    "def calculate_avg_rating(actors, actor_ratings):\n",
    "    if isinstance(actors, list) and len(actors) > 0:\n",
    "        valid_ratings = [actor_ratings[actor]['average_rating'] for actor in actors if actor_ratings[actor]['average_rating'] is not None]\n",
    "        if valid_ratings:\n",
    "            return sum(valid_ratings) / len(valid_ratings)\n",
    "    return None\n",
    "\n",
    "# Apply the function to create a new 'avg_rating_of_actors' column\n",
    "df['avg_rating_of_actors'] = df['actors'].apply(lambda actors: calculate_avg_rating(actors, actor_ratings))\n",
    "\n",
    "# Iterate over the DataFrame to clean and update values\n",
    "for index, row in df.iterrows():\n",
    "    # Extract the list of actors from the 'actors' column\n",
    "    actors_list_str = row['actors']\n",
    "    actors_list_arr = ast.literal_eval(actors_list_str)  # Using ast.literal_eval to safely evaluate the string as a Python literal\n",
    "    row['actors'] = actors_list_arr\n",
    "\n",
    "    # Extract the rating for the movie\n",
    "    rating = row['rating']\n",
    "    actor_num = 0\n",
    "    actor_rating = 0\n",
    "\n",
    "    # Check if the 'actors' column is a list\n",
    "    if isinstance(actors_list_arr, list):\n",
    "        for actor in actors_list_arr:\n",
    "            if 'average_rating' in actor_ratings[actor]:\n",
    "                actor_rating += actor_ratings[actor]['average_rating']\n",
    "                actor_num += 1\n",
    "\n",
    "        avg_rating = None\n",
    "        if actor_num > 0:\n",
    "            avg_rating = round(actor_rating / actor_num, 2)\n",
    "\n",
    "        # Update the 'avg_rating_of_actors' column\n",
    "        df.at[index, 'avg_rating_of_actors'] = avg_rating\n",
    "\n",
    "# Drop rows with missing values in 'avg_rating_of_actors' or 'rating'\n",
    "df = df.dropna(subset=['avg_rating_of_actors', 'rating'])\n",
    "\n",
    "# Display the first few rows of the cleaned DataFrame\n",
    "df.head()"
   ]
  },
  {
   "cell_type": "code",
   "execution_count": 29,
   "metadata": {
    "id": "eRhcoeSIA_r4"
   },
   "outputs": [
    {
     "name": "stdout",
     "output_type": "stream",
     "text": [
      "                            OLS Regression Results                            \n",
      "==============================================================================\n",
      "Dep. Variable:                 rating   R-squared:                       0.310\n",
      "Model:                            OLS   Adj. R-squared:                  0.307\n",
      "Method:                 Least Squares   F-statistic:                     89.72\n",
      "Date:                Fri, 08 Mar 2024   Prob (F-statistic):               0.00\n",
      "Time:                        07:45:13   Log-Likelihood:                -12772.\n",
      "No. Observations:               25468   AIC:                         2.580e+04\n",
      "Df Residuals:                   25340   BIC:                         2.684e+04\n",
      "Df Model:                         127                                         \n",
      "Covariance Type:            nonrobust                                         \n",
      "================================================================================================\n",
      "                                   coef    std err          t      P>|t|      [0.025      0.975]\n",
      "------------------------------------------------------------------------------------------------\n",
      "Intercept                        1.9300      0.401      4.818      0.000       1.145       2.715\n",
      "avg_rating_of_actors[T.2.44]     0.0875      0.448      0.195      0.845      -0.790       0.965\n",
      "avg_rating_of_actors[T.2.46]    -0.0300      0.566     -0.053      0.958      -1.140       1.080\n",
      "avg_rating_of_actors[T.2.48]     0.4083      0.433      0.944      0.345      -0.440       1.256\n",
      "avg_rating_of_actors[T.2.5]      0.5175      0.448      1.156      0.248      -0.360       1.395\n",
      "avg_rating_of_actors[T.2.51]     0.5000      0.463      1.081      0.280      -0.407       1.407\n",
      "avg_rating_of_actors[T.2.52]     0.6100      0.491      1.243      0.214      -0.352       1.572\n",
      "avg_rating_of_actors[T.2.54]     0.2500      0.566      0.441      0.659      -0.860       1.360\n",
      "avg_rating_of_actors[T.2.55]     0.3580      0.439      0.816      0.415      -0.502       1.218\n",
      "avg_rating_of_actors[T.2.56]     0.5637      0.425      1.327      0.185      -0.269       1.396\n",
      "avg_rating_of_actors[T.2.57]     0.7867      0.463      1.701      0.089      -0.120       1.693\n",
      "avg_rating_of_actors[T.2.58]     0.7000      0.566      1.236      0.217      -0.410       1.810\n",
      "avg_rating_of_actors[T.2.59]     0.3462      0.425      0.815      0.415      -0.486       1.179\n",
      "avg_rating_of_actors[T.2.6]      0.6257      0.428      1.461      0.144      -0.214       1.465\n",
      "avg_rating_of_actors[T.2.61]     0.8186      0.428      1.912      0.056      -0.021       1.658\n",
      "avg_rating_of_actors[T.2.62]     0.5838      0.410      1.424      0.154      -0.220       1.387\n",
      "avg_rating_of_actors[T.2.63]     0.6960      0.414      1.682      0.092      -0.115       1.507\n",
      "avg_rating_of_actors[T.2.64]     0.7967      0.422      1.887      0.059      -0.031       1.624\n",
      "avg_rating_of_actors[T.2.65]     0.5144      0.422      1.218      0.223      -0.313       1.342\n",
      "avg_rating_of_actors[T.2.66]     0.6167      0.412      1.499      0.134      -0.190       1.423\n",
      "avg_rating_of_actors[T.2.67]     0.3745      0.410      0.915      0.360      -0.428       1.177\n",
      "avg_rating_of_actors[T.2.68]     0.7750      0.415      1.869      0.062      -0.038       1.588\n",
      "avg_rating_of_actors[T.2.69]     0.6429      0.412      1.560      0.119      -0.165       1.451\n",
      "avg_rating_of_actors[T.2.7]      0.6672      0.408      1.633      0.102      -0.133       1.468\n",
      "avg_rating_of_actors[T.2.71]     0.6562      0.406      1.615      0.106      -0.140       1.453\n",
      "avg_rating_of_actors[T.2.72]     0.7854      0.406      1.933      0.053      -0.011       1.582\n",
      "avg_rating_of_actors[T.2.73]     0.7645      0.407      1.881      0.060      -0.032       1.561\n",
      "avg_rating_of_actors[T.2.74]     0.6836      0.408      1.677      0.094      -0.115       1.483\n",
      "avg_rating_of_actors[T.2.75]     0.6877      0.406      1.696      0.090      -0.107       1.483\n",
      "avg_rating_of_actors[T.2.76]     0.7733      0.405      1.910      0.056      -0.020       1.567\n",
      "avg_rating_of_actors[T.2.77]     0.7113      0.404      1.761      0.078      -0.080       1.503\n",
      "avg_rating_of_actors[T.2.78]     0.5494      0.404      1.359      0.174      -0.243       1.342\n",
      "avg_rating_of_actors[T.2.79]     0.7188      0.402      1.786      0.074      -0.070       1.508\n",
      "avg_rating_of_actors[T.2.8]      0.8366      0.403      2.078      0.038       0.047       1.626\n",
      "avg_rating_of_actors[T.2.81]     0.6803      0.403      1.690      0.091      -0.109       1.469\n",
      "avg_rating_of_actors[T.2.82]     0.6474      0.402      1.610      0.108      -0.141       1.436\n",
      "avg_rating_of_actors[T.2.83]     0.7772      0.402      1.934      0.053      -0.010       1.565\n",
      "avg_rating_of_actors[T.2.84]     0.7801      0.402      1.941      0.052      -0.008       1.568\n",
      "avg_rating_of_actors[T.2.85]     0.7893      0.402      1.965      0.049       0.002       1.577\n",
      "avg_rating_of_actors[T.2.86]     0.7612      0.402      1.894      0.058      -0.027       1.549\n",
      "avg_rating_of_actors[T.2.87]     0.7883      0.402      1.962      0.050       0.001       1.576\n",
      "avg_rating_of_actors[T.2.88]     0.7747      0.401      1.930      0.054      -0.012       1.561\n",
      "avg_rating_of_actors[T.2.89]     0.8316      0.401      2.072      0.038       0.045       1.618\n",
      "avg_rating_of_actors[T.2.9]      0.7610      0.401      1.896      0.058      -0.026       1.548\n",
      "avg_rating_of_actors[T.2.91]     0.7723      0.401      1.924      0.054      -0.014       1.559\n",
      "avg_rating_of_actors[T.2.92]     0.7958      0.401      1.984      0.047       0.010       1.582\n",
      "avg_rating_of_actors[T.2.93]     0.8321      0.401      2.073      0.038       0.046       1.619\n",
      "avg_rating_of_actors[T.2.94]     0.8031      0.401      2.002      0.045       0.017       1.589\n",
      "avg_rating_of_actors[T.2.95]     0.8014      0.401      1.998      0.046       0.015       1.588\n",
      "avg_rating_of_actors[T.2.96]     0.8962      0.401      2.235      0.025       0.110       1.682\n",
      "avg_rating_of_actors[T.2.97]     0.8585      0.401      2.141      0.032       0.072       1.645\n",
      "avg_rating_of_actors[T.2.98]     0.8887      0.401      2.216      0.027       0.103       1.675\n",
      "avg_rating_of_actors[T.2.99]     0.9005      0.401      2.246      0.025       0.115       1.686\n",
      "avg_rating_of_actors[T.3.0]      0.9152      0.401      2.283      0.022       0.129       1.701\n",
      "avg_rating_of_actors[T.3.01]     0.9306      0.401      2.321      0.020       0.145       1.717\n",
      "avg_rating_of_actors[T.3.02]     0.9796      0.401      2.443      0.015       0.194       1.765\n",
      "avg_rating_of_actors[T.3.03]     0.9805      0.401      2.446      0.014       0.195       1.766\n",
      "avg_rating_of_actors[T.3.04]     1.0034      0.401      2.503      0.012       0.218       1.789\n",
      "avg_rating_of_actors[T.3.05]     1.0463      0.401      2.610      0.009       0.261       1.832\n",
      "avg_rating_of_actors[T.3.06]     1.0811      0.401      2.697      0.007       0.295       1.867\n",
      "avg_rating_of_actors[T.3.07]     1.0946      0.401      2.731      0.006       0.309       1.880\n",
      "avg_rating_of_actors[T.3.08]     1.1098      0.401      2.769      0.006       0.324       1.895\n",
      "avg_rating_of_actors[T.3.09]     1.1415      0.401      2.848      0.004       0.356       1.927\n",
      "avg_rating_of_actors[T.3.1]      1.1659      0.401      2.909      0.004       0.380       1.952\n",
      "avg_rating_of_actors[T.3.11]     1.1625      0.401      2.900      0.004       0.377       1.948\n",
      "avg_rating_of_actors[T.3.12]     1.2149      0.401      3.031      0.002       0.429       2.000\n",
      "avg_rating_of_actors[T.3.13]     1.2119      0.401      3.024      0.003       0.426       1.998\n",
      "avg_rating_of_actors[T.3.14]     1.2412      0.401      3.097      0.002       0.456       2.027\n",
      "avg_rating_of_actors[T.3.15]     1.2694      0.401      3.167      0.002       0.484       2.055\n",
      "avg_rating_of_actors[T.3.16]     1.2590      0.401      3.141      0.002       0.473       2.045\n",
      "avg_rating_of_actors[T.3.17]     1.3159      0.401      3.283      0.001       0.530       2.102\n",
      "avg_rating_of_actors[T.3.18]     1.3395      0.401      3.341      0.001       0.554       2.125\n",
      "avg_rating_of_actors[T.3.19]     1.3612      0.401      3.396      0.001       0.575       2.147\n",
      "avg_rating_of_actors[T.3.2]      1.3700      0.401      3.418      0.001       0.584       2.156\n",
      "avg_rating_of_actors[T.3.21]     1.3817      0.401      3.447      0.001       0.596       2.167\n",
      "avg_rating_of_actors[T.3.22]     1.3994      0.401      3.490      0.000       0.614       2.185\n",
      "avg_rating_of_actors[T.3.23]     1.4224      0.401      3.547      0.000       0.636       2.208\n",
      "avg_rating_of_actors[T.3.24]     1.4766      0.401      3.682      0.000       0.691       2.263\n",
      "avg_rating_of_actors[T.3.25]     1.4481      0.401      3.611      0.000       0.662       2.234\n",
      "avg_rating_of_actors[T.3.26]     1.4570      0.401      3.632      0.000       0.671       2.243\n",
      "avg_rating_of_actors[T.3.27]     1.4758      0.401      3.678      0.000       0.689       2.262\n",
      "avg_rating_of_actors[T.3.28]     1.4901      0.401      3.714      0.000       0.704       2.276\n",
      "avg_rating_of_actors[T.3.29]     1.5372      0.401      3.831      0.000       0.751       2.324\n",
      "avg_rating_of_actors[T.3.3]      1.5204      0.401      3.787      0.000       0.733       2.307\n",
      "avg_rating_of_actors[T.3.31]     1.5113      0.402      3.763      0.000       0.724       2.299\n",
      "avg_rating_of_actors[T.3.32]     1.5208      0.402      3.787      0.000       0.734       2.308\n",
      "avg_rating_of_actors[T.3.33]     1.4787      0.401      3.683      0.000       0.692       2.265\n",
      "avg_rating_of_actors[T.3.34]     1.5528      0.402      3.862      0.000       0.765       2.341\n",
      "avg_rating_of_actors[T.3.35]     1.5276      0.402      3.800      0.000       0.740       2.316\n",
      "avg_rating_of_actors[T.3.36]     1.5928      0.403      3.955      0.000       0.804       2.382\n",
      "avg_rating_of_actors[T.3.37]     1.5372      0.402      3.823      0.000       0.749       2.325\n",
      "avg_rating_of_actors[T.3.38]     1.5084      0.402      3.753      0.000       0.721       2.296\n",
      "avg_rating_of_actors[T.3.39]     1.6311      0.403      4.052      0.000       0.842       2.420\n",
      "avg_rating_of_actors[T.3.4]      1.6214      0.403      4.020      0.000       0.831       2.412\n",
      "avg_rating_of_actors[T.3.41]     1.5576      0.403      3.861      0.000       0.767       2.348\n",
      "avg_rating_of_actors[T.3.42]     1.5964      0.404      3.950      0.000       0.804       2.389\n",
      "avg_rating_of_actors[T.3.43]     1.5616      0.403      3.874      0.000       0.772       2.352\n",
      "avg_rating_of_actors[T.3.44]     1.5868      0.403      3.933      0.000       0.796       2.378\n",
      "avg_rating_of_actors[T.3.45]     1.6634      0.404      4.120      0.000       0.872       2.455\n",
      "avg_rating_of_actors[T.3.46]     1.5958      0.405      3.945      0.000       0.803       2.389\n",
      "avg_rating_of_actors[T.3.47]     1.6374      0.407      4.024      0.000       0.840       2.435\n",
      "avg_rating_of_actors[T.3.48]     1.7406      0.404      4.306      0.000       0.948       2.533\n",
      "avg_rating_of_actors[T.3.49]     1.6203      0.407      3.980      0.000       0.822       2.418\n",
      "avg_rating_of_actors[T.3.5]      1.5930      0.403      3.957      0.000       0.804       2.382\n",
      "avg_rating_of_actors[T.3.51]     1.6350      0.405      4.038      0.000       0.841       2.429\n",
      "avg_rating_of_actors[T.3.52]     1.7307      0.405      4.274      0.000       0.937       2.524\n",
      "avg_rating_of_actors[T.3.53]     1.6235      0.407      3.990      0.000       0.826       2.421\n",
      "avg_rating_of_actors[T.3.54]     1.6678      0.407      4.100      0.000       0.871       2.465\n",
      "avg_rating_of_actors[T.3.55]     1.6315      0.407      4.013      0.000       0.835       2.428\n",
      "avg_rating_of_actors[T.3.56]     1.7085      0.405      4.221      0.000       0.915       2.502\n",
      "avg_rating_of_actors[T.3.57]     1.6855      0.405      4.164      0.000       0.892       2.479\n",
      "avg_rating_of_actors[T.3.58]     1.7519      0.407      4.305      0.000       0.954       2.550\n",
      "avg_rating_of_actors[T.3.59]     1.7723      0.416      4.264      0.000       0.958       2.587\n",
      "avg_rating_of_actors[T.3.6]      1.8708      0.417      4.488      0.000       1.054       2.688\n",
      "avg_rating_of_actors[T.3.61]     1.7383      0.417      4.170      0.000       0.921       2.555\n",
      "avg_rating_of_actors[T.3.62]     1.7608      0.417      4.224      0.000       0.944       2.578\n",
      "avg_rating_of_actors[T.3.63]     1.7066      0.405      4.213      0.000       0.913       2.501\n",
      "avg_rating_of_actors[T.3.64]     1.8400      0.566      3.248      0.001       0.730       2.950\n",
      "avg_rating_of_actors[T.3.65]     2.1264      0.415      5.129      0.000       1.314       2.939\n",
      "avg_rating_of_actors[T.3.66]     1.7873      0.418      4.272      0.000       0.967       2.607\n",
      "avg_rating_of_actors[T.3.67]     1.8250      0.448      4.075      0.000       0.947       2.703\n",
      "avg_rating_of_actors[T.3.69]     1.8629      0.428      4.350      0.000       1.024       2.702\n",
      "avg_rating_of_actors[T.3.7]      1.8044      0.422      4.274      0.000       0.977       2.632\n",
      "avg_rating_of_actors[T.3.71]     1.9337      0.413      4.684      0.000       1.125       2.743\n",
      "avg_rating_of_actors[T.3.72]     1.9450      0.491      3.965      0.000       0.983       2.907\n",
      "avg_rating_of_actors[T.3.73]     1.8282      0.418      4.370      0.000       1.008       2.648\n",
      "avg_rating_of_actors[T.3.75]     1.5300      0.463      3.308      0.001       0.623       2.437\n",
      "avg_rating_of_actors[T.3.94]     2.0444      0.407      5.026      0.000       1.247       2.842\n",
      "==============================================================================\n",
      "Omnibus:                      772.216   Durbin-Watson:                   1.826\n",
      "Prob(Omnibus):                  0.000   Jarque-Bera (JB):             1169.695\n",
      "Skew:                          -0.305   Prob(JB):                    1.01e-254\n",
      "Kurtosis:                       3.855   Cond. No.                     1.82e+03\n",
      "==============================================================================\n",
      "\n",
      "Notes:\n",
      "[1] Standard Errors assume that the covariance matrix of the errors is correctly specified.\n",
      "[2] The condition number is large, 1.82e+03. This might indicate that there are\n",
      "strong multicollinearity or other numerical problems.\n"
     ]
    }
   ],
   "source": [
    "import patsy\n",
    "import statsmodels.api as sm\n",
    "\n",
    "# Use patsy to create design matrices\n",
    "outcome_1, predictors_1 = patsy.dmatrices('rating ~ avg_rating_of_actors', df)\n",
    "\n",
    "# Create an OLS model\n",
    "mod_1 = sm.OLS(outcome_1, predictors_1)\n",
    "\n",
    "# Fit the model\n",
    "res_1 = mod_1.fit()\n",
    "\n",
    "# Display the summary statistics\n",
    "print(res_1.summary())"
   ]
  },
  {
   "cell_type": "code",
   "execution_count": 30,
   "metadata": {
    "id": "HC4CIJhlI_nI"
   },
   "outputs": [
    {
     "data": {
      "image/png": "[encoded data removed]",
      "text/plain": [
       "<Figure size 1008x576 with 1 Axes>"
      ]
     },
     "metadata": {},
     "output_type": "display_data"
    }
   ],
   "source": [
    "# Set up the figure size for the plot\n",
    "plt.figure(figsize=(14, 8))\n",
    "\n",
    "# Create a box plot using Seaborn\n",
    "sns.boxplot(x='avg_rating_of_actors', y='rating', data=df, palette='viridis')\n",
    "\n",
    "# Set the title of the plot\n",
    "plt.title('Box Plot of avg_rating_of_actors vs. Rating', fontsize=16)\n",
    "\n",
    "# Set the labels for the x and y axes\n",
    "plt.xlabel('avg_rating_of_actors', fontsize=14)\n",
    "plt.ylabel('Rating', fontsize=14)\n",
    "\n",
    "# Rotate x-axis labels for better visibility\n",
    "plt.xticks(rotation=45, ha='right')\n",
    "\n",
    "# Adjust the layout for better spacing\n",
    "plt.tight_layout()\n",
    "\n",
    "# Display the plot\n",
    "plt.show()"
   ]
  },
  {
   "cell_type": "markdown",
   "metadata": {
    "id": "u_Vxj5UOnhA7"
   },
   "source": [
    "Let's look at the relationship between average rating of actors in a movie vs the movie's rating"
   ]
  },
  {
   "cell_type": "code",
   "execution_count": 31,
   "metadata": {
    "id": "OYHpg9zBIpQi"
   },
   "outputs": [
    {
     "data": {
      "image/png": "[encoded data removed]",
      "text/plain": [
       "<Figure size 432x288 with 1 Axes>"
      ]
     },
     "metadata": {},
     "output_type": "display_data"
    }
   ],
   "source": [
    "# Create a scatter plot using Matplotlib\n",
    "plt.scatter(df['avg_rating_of_actors'], df['rating'])\n",
    "\n",
    "# Set the label for the x-axis\n",
    "plt.xlabel('Average Rating of Actors')\n",
    "\n",
    "# Set the label for the y-axis\n",
    "plt.ylabel('Movie Rating')\n",
    "\n",
    "# Set the title of the plot\n",
    "plt.title('Average Rating of Actors vs Movie Rating')\n",
    "\n",
    "# Display the plot\n",
    "plt.show()"
   ]
  },
  {
   "cell_type": "markdown",
   "metadata": {
    "id": "S9wLD512ggj7"
   },
   "source": [
    "Seems like there are some signs of correlation happening here but is it strong enough? Let's train some models to see\n"
   ]
  },
  {
   "cell_type": "markdown",
   "metadata": {
    "id": "xiyS9rLKJU9N"
   },
   "source": [
    "# **Models exploration**"
   ]
  },
  {
   "cell_type": "markdown",
   "metadata": {
    "id": "Nz3ZcRCGgZhp"
   },
   "source": [
    "## ***Linear regression Model***\n"
   ]
  },
  {
   "cell_type": "code",
   "execution_count": 32,
   "metadata": {
    "id": "1skhjnD4lRzv"
   },
   "outputs": [
    {
     "data": {
      "image/png": "[encoded data removed]",
      "text/plain": [
       "<Figure size 432x288 with 1 Axes>"
      ]
     },
     "metadata": {},
     "output_type": "display_data"
    },
    {
     "name": "stdout",
     "output_type": "stream",
     "text": [
      "Coefficient(s): [1.56917309]\n",
      "Intercept: -1.7849436501096538\n",
      "Mean Squared Error: 0.16553406510901802\n"
     ]
    }
   ],
   "source": [
    "# Import necessary modules from scikit-learn\n",
    "from sklearn.linear_model import LinearRegression\n",
    "from sklearn.model_selection import train_test_split\n",
    "from sklearn.metrics import mean_squared_error\n",
    "\n",
    "# Extract features (X) and target variable (y) from the DataFrame 'df'\n",
    "X = df[['avg_rating_of_actors', 'genre', 'director']].values\n",
    "y = df['rating']\n",
    "\n",
    "# Split the dataset into training and testing sets\n",
    "X_train, X_test, y_train, y_test = train_test_split(X, y, test_size=0.1, random_state=42)\n",
    "\n",
    "# Create a Linear Regression model\n",
    "model = LinearRegression()\n",
    "\n",
    "# Train the model using the training sets\n",
    "model.fit(X_train, y_train)\n",
    "\n",
    "# Predict the target variable for the testing set\n",
    "y_pred = model.predict(X_test)\n",
    "\n",
    "# Plot data points and regression line\n",
    "plt.scatter(X_test, y_test, label='Testing Data')    # Plot testing data points\n",
    "plt.plot(X_test, y_pred, color='red', label='Linear Regression')    # Plot regression line\n",
    "plt.xlabel('Average rating of actor')\n",
    "plt.ylabel('Rating')\n",
    "plt.title('Year released vs rating')\n",
    "plt.legend()\n",
    "plt.show()\n",
    "\n",
    "# Display the coefficient(s) and intercept of the linear regression model\n",
    "print(\"Coefficient(s):\", model.coef_)\n",
    "print(\"Intercept:\", model.intercept_)\n",
    "\n",
    "# Calculate and display the Mean Squared Error (MSE)\n",
    "mse = mean_squared_error(y_test, y_pred)\n",
    "print(\"Mean Squared Error:\", mse)"
   ]
  },
  {
   "cell_type": "markdown",
   "metadata": {
    "id": "jbdU7ztcvqKb"
   },
   "source": [
    "**Let's try to make some predictions based on one actor!**"
   ]
  },
  {
   "cell_type": "code",
   "execution_count": 33,
   "metadata": {
    "id": "YIhBL29svO4Q"
   },
   "outputs": [],
   "source": [
    "def One_actor_prediction():\n",
    "    # Prompt user to enter an actor's name\n",
    "    name = input(\"Enter an actor of your choice: \")\n",
    "\n",
    "    # Retrieve the average rating of the specified actor from the DataFrame\n",
    "    score = average_ratings_df_filtered.loc[average_ratings_df_filtered['actor_name'] == name, 'average_rating'].iloc[0]\n",
    "\n",
    "    # Create a list containing the actor's score\n",
    "    score_list = [score]\n",
    "\n",
    "    # Create a list to hold the data points\n",
    "    data_points = [[score]]\n",
    "\n",
    "    # Use the trained model to predict the rating for the specified actor\n",
    "    predictions = model.predict(data_points)\n",
    "\n",
    "    # Return the predicted rating\n",
    "    return predictions"
   ]
  },
  {
   "cell_type": "code",
   "execution_count": null,
   "metadata": {
    "id": "zi49XR0Jy-Af"
   },
   "outputs": [],
   "source": [
    "for i in range(3):\n",
    "  prediction = One_actor_prediction()\n",
    "  print(\"Predicted score of this actor:\", prediction)"
   ]
  },
  {
   "cell_type": "markdown",
   "metadata": {
    "id": "QKlb6bC8fgMo"
   },
   "source": [
    "## ***Neural Network Model***"
   ]
  },
  {
   "cell_type": "code",
   "execution_count": null,
   "metadata": {
    "id": "qctKD9bxIuq2"
   },
   "outputs": [],
   "source": [
    "import tensorflow as tf\n",
    "from tensorflow import keras\n",
    "from tensorflow.keras import layers"
   ]
  },
  {
   "cell_type": "code",
   "execution_count": null,
   "metadata": {
    "id": "MS_ClG0oJVez"
   },
   "outputs": [],
   "source": [
    "X = df['avg_rating_of_actors'].values.reshape(-1, 1)\n",
    "X= X.astype(float)\n",
    "y = df['rating'].values.reshape(-1, 1)\n",
    "y= y.astype(float)\n",
    "# Splitting data into training and testing sets\n",
    "X_train, X_test, y_train, y_test = train_test_split(X, y, test_size=0.1, random_state=42) #Split the dataset into training-testing\n",
    "\n",
    "#Build a neural network model\n",
    "NNmodel = keras.Sequential([\n",
    "    layers.Input(shape=(1,)),\n",
    "    layers.Dense(64, activation='relu'),\n",
    "    layers.Dense(32, activation='relu'),\n",
    "    layers.Dense(1)\n",
    "])\n",
    "#Compile the model\n",
    "NNmodel.compile(optimizer='adam', loss='mean_squared_error')"
   ]
  },
  {
   "cell_type": "code",
   "execution_count": null,
   "metadata": {
    "colab": {
     "base_uri": "https://localhost:8080/"
    },
    "id": "3oJL8A9gNrk2",
    "outputId": "a05d9300-bbe6-4676-fdb8-8f8165196395"
   },
   "outputs": [],
   "source": [
    "#Fit the model\n",
    "NNmodel.fit(X_train, y_train, epochs=100, batch_size=32, validation_data=(X_test, y_test),verbose = 0)"
   ]
  },
  {
   "cell_type": "code",
   "execution_count": null,
   "metadata": {
    "colab": {
     "base_uri": "https://localhost:8080/"
    },
    "id": "-YpKaSeIN8gB",
    "outputId": "e76de4a7-0e68-4863-b1b6-e0cb9be112a1"
   },
   "outputs": [],
   "source": [
    "#Evaluate the loss\n",
    "test_loss = NNmodel.evaluate(X_test, y_test)"
   ]
  },
  {
   "cell_type": "code",
   "execution_count": null,
   "metadata": {
    "id": "m3BMb8sMS0YX"
   },
   "outputs": [],
   "source": [
    "def NN_prediction():\n",
    "  name = input(\"Enter an actor of your choice: \")\n",
    "  while ~average_ratings_df_filtered.isin([name]).any().any():\n",
    "    name = input(\"Couldn't find the actor, please try again: \")\n",
    "\n",
    "  score = average_ratings_df_filtered.loc[average_ratings_df_filtered['actor_name'] == name, 'average_rating'].iloc[0]\n",
    "  score_list = [score]\n",
    "  data_points = []\n",
    "  data_points.append(score_list)\n",
    "  predictions = NNmodel.predict(data_points)\n",
    "  return predictions\n"
   ]
  },
  {
   "cell_type": "code",
   "execution_count": null,
   "metadata": {
    "colab": {
     "base_uri": "https://localhost:8080/"
    },
    "id": "91qWX6TyS5Cl",
    "outputId": "ecb598f2-6c63-4f80-b180-af49adcf18a7"
   },
   "outputs": [],
   "source": [
    "prediction = NN_prediction()\n",
    "print(\"Predicted score of this actor:\", prediction)"
   ]
  },
  {
   "cell_type": "markdown",
   "metadata": {
    "id": "VAl2yLQNfgM0"
   },
   "source": [
    "It looks like our loss for the neural network model(0.1643) is slightly lower than that of the linear regression model(0.1655), which implies slightly better performance. But what other models can we use?"
   ]
  },
  {
   "cell_type": "markdown",
   "metadata": {
    "id": "xYNBjj4vXzYd"
   },
   "source": [
    "## ***K-Nearest-Neighbor Model***"
   ]
  },
  {
   "cell_type": "code",
   "execution_count": null,
   "metadata": {
    "colab": {
     "base_uri": "https://localhost:8080/"
    },
    "id": "iwBofDw9X2Yq",
    "outputId": "fc8f59de-2a2a-4342-eae5-39b8c0322140"
   },
   "outputs": [],
   "source": [
    "from sklearn.neighbors import KNeighborsRegressor\n",
    "\n",
    "# Splitting data into training and testing sets\n",
    "X = df['avg_rating_of_actors'].values.reshape(-1, 1)\n",
    "X= X.astype(float)\n",
    "y = df['rating'].values.reshape(-1, 1)\n",
    "y= y.astype(float)\n",
    "X_train, X_test, y_train, y_test = train_test_split(X, y, test_size=0.2, random_state=42)\n",
    "\n",
    "# Initialize KNN regressor\n",
    "knn_regressor = KNeighborsRegressor(n_neighbors=100)  # You can adjust the number of neighbors\n",
    "\n",
    "# Fitting the model\n",
    "knn_regressor.fit(X_train, y_train)\n",
    "\n",
    "# Predicting on the test set\n",
    "y_pred = knn_regressor.predict(X_test)\n",
    "\n",
    "# Evaluating the model\n",
    "mse = mean_squared_error(y_test, y_pred)\n",
    "print(\"Mean Squared Error:\", mse)"
   ]
  },
  {
   "cell_type": "markdown",
   "metadata": {
    "id": "SnvnFHfkZYBQ"
   },
   "source": [
    "It looks like the loss for the KNN model is very similar to the linear regression model"
   ]
  },
  {
   "cell_type": "markdown",
   "metadata": {
    "id": "DWvW25NjaRms"
   },
   "source": [
    "## ***Lasso Regression Model***"
   ]
  },
  {
   "cell_type": "code",
   "execution_count": null,
   "metadata": {
    "colab": {
     "base_uri": "https://localhost:8080/"
    },
    "id": "WbkVpW56aPYh",
    "outputId": "ef52bea8-6588-4f25-f5c7-87779ebbfd2b"
   },
   "outputs": [],
   "source": [
    "from sklearn.linear_model import Lasso\n",
    "from sklearn.model_selection import train_test_split\n",
    "from sklearn.preprocessing import StandardScaler\n",
    "from sklearn.metrics import mean_squared_error\n",
    "import pandas as pd\n",
    "\n",
    "# Splitting data into training and testing sets\n",
    "X_train, X_test, y_train, y_test = train_test_split(X, y, test_size=0.2, random_state=42)\n",
    "\n",
    "# Standardize features\n",
    "scaler = StandardScaler()\n",
    "X_train_scaled = scaler.fit_transform(X_train)\n",
    "X_test_scaled = scaler.transform(X_test)\n",
    "\n",
    "# Initialize Lasso regression model\n",
    "lasso_reg = Lasso(alpha=0.05)\n",
    "lasso_reg.fit(X_train_scaled, y_train)\n",
    "y_pred = lasso_reg.predict(X_test_scaled)\n",
    "\n",
    "# Evaluating the model\n",
    "mse = mean_squared_error(y_test, y_pred)\n",
    "print(\"Mean Squared Error:\", mse)\n"
   ]
  },
  {
   "cell_type": "markdown",
   "metadata": {
    "id": "cGO8LbSUc1hv"
   },
   "source": [
    "Right now, it seems like the common regression models all give out similar Mean Squared Error value. Thus, we will mainly use the neural network model and do some hyperparameter tuning to it, as it has the best performance by far."
   ]
  },
  {
   "cell_type": "markdown",
   "metadata": {
    "id": "uepEQGlsKsom"
   },
   "source": [
    "# **Ethics & Privacy**"
   ]
  },
  {
   "cell_type": "markdown",
   "metadata": {
    "id": "WfWgPrlPKson"
   },
   "source": [
    "As a group of students enrolled at UCSD, we all acknowledge that we have aspects of our lives in common that could create biases in our research, and therefore data. We are all members of Gen Z, students, live/lived in San Diego, privileged enough to receive a high education, etc. These aspects of our lives could create an underlying bias that we need to address. Knowing this, we need to ensure that we are accessing data that reaches beyond our generation and using sources that address movies and actors of all ages and backgrounds, basing their popularity on one designated, impartial scale. Additionally, we chose to use Letterboxd for the rating of the movies in our data sets. We know that half of Letterboxd users are under the age of 35, and more than half are between 16 and 24 (https://variety.com/2023/film/news/letterboxd-martin-scorsese-younger-audience-classic-films-1235804153/). Since we know this to be true, we have decided to make our intentions about being able to predict the movie ratings of only Letterboxd users, meaning mostly Generation Z movie ratings. If this is made clear to the audience, we will avoid a bias, as it is not going to skew the data, but be a clear intention in the research process. We are also aware of the fact that choosing Letterboxd in the first place is likely a result of our generation. This could therefore mean that the scale we are using to rate movies is based more than half on the younger portion of the population. Although this is true, Letterboxd will have an impartial scale and vast amount of data to access. As a warning, we will provide this context to the audience so they are well informed that the ratings may primarily reflect the views of the younger generations, and may not accurately depict how the elder populations feel about the movies.\n",
    "\n",
    "We have intentionally chosen to work with a dataset that is public\n",
    "information accessable from Kaggle to avoid issues with privacy. Since this is a public data set, we will not have to worry about terms of use privacy issues."
   ]
  },
  {
   "cell_type": "markdown",
   "metadata": {
    "id": "vGY4RlH7Kson"
   },
   "source": [
    "# **Team Expectations**"
   ]
  },
  {
   "cell_type": "markdown",
   "metadata": {
    "id": "Xm9_f-nGKson"
   },
   "source": [
    "\n",
    "\n",
    "*   We decide to meet at least once a week when necessary and previously decided upon\n",
    "*   We want to ensure that there is a hybrid meeting system available so group members can join from anywhere\n",
    "*   We want to make sure that deadlines are clearly communicated and that people are gently reminded to meet those deadlines\n",
    "*   Judgment free zone!\n",
    "\n",
    "\n",
    "\n",
    "\n",
    "\n",
    "\n",
    "\n",
    "\n",
    "\n"
   ]
  },
  {
   "cell_type": "markdown",
   "metadata": {
    "id": "JY4jF0XFKson"
   },
   "source": [
    "# **Project Timeline Proposal**"
   ]
  },
  {
   "cell_type": "code",
   "execution_count": null,
   "metadata": {
    "id": "b5UI67I0QSpi"
   },
   "outputs": [],
   "source": [
    "from IPython.display import Image\n",
    "Image('/content/Screenshot 2024-02-25 at 6.31.49 PM.png')"
   ]
  }
 ],
 "metadata": {
  "colab": {
   "collapsed_sections": [
    "xa0QoKlie0gO",
    "xiyS9rLKJU9N",
    "Nz3ZcRCGgZhp",
    "QKlb6bC8fgMo",
    "xYNBjj4vXzYd",
    "DWvW25NjaRms"
   ],
   "provenance": [],
   "toc_visible": true
  },
  "kernelspec": {
   "display_name": "Python 3 (ipykernel)",
   "language": "python",
   "name": "python3"
  },
  "language_info": {
   "codemirror_mode": {
    "name": "ipython",
    "version": 3
   },
   "file_extension": ".py",
   "mimetype": "text/x-python",
   "name": "python",
   "nbconvert_exporter": "python",
   "pygments_lexer": "ipython3",
   "version": "3.9.5"
  }
 },
 "nbformat": 4,
 "nbformat_minor": 1
}
